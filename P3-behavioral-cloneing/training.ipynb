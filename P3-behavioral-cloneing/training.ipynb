{
 "cells": [
  {
   "cell_type": "markdown",
   "metadata": {},
   "source": [
    "# Train the model"
   ]
  },
  {
   "cell_type": "code",
   "execution_count": 1,
   "metadata": {},
   "outputs": [
    {
     "name": "stderr",
     "output_type": "stream",
     "text": [
      "Using TensorFlow backend.\n"
     ]
    }
   ],
   "source": [
    "import pickle\n",
    "import numpy as np\n",
    "from sklearn.utils import shuffle\n",
    "\n",
    "from keras.models import Sequential\n",
    "from keras.layers import Flatten, Dense, Lambda\n",
    "from keras.layers.convolutional import Convolution2D\n",
    "from keras.layers.pooling import MaxPooling2D"
   ]
  },
  {
   "cell_type": "markdown",
   "metadata": {},
   "source": [
    "## Reload the data"
   ]
  },
  {
   "cell_type": "code",
   "execution_count": 2,
   "metadata": {},
   "outputs": [
    {
     "name": "stdout",
     "output_type": "stream",
     "text": [
      "reload data 1 ...\n",
      "X_train1 shape:  (4018, 160, 320, 3) y_train1 shape:  (4018,)\n",
      "reload data 2 ...\n",
      "X_train2 shape:  (4018, 160, 320, 3) y_train2 shape:  (4018,)\n"
     ]
    }
   ],
   "source": [
    "# Reload the data\n",
    "pickle_file = './pre-data/1.pickle'\n",
    "print('reload data 1 ...')\n",
    "with open(pickle_file, 'rb') as f:\n",
    "    pickle_data = pickle.load(f)\n",
    "    X_train1 = pickle_data['X_train']\n",
    "    y_train1 = pickle_data['y_train']\n",
    "    del pickle_data  # Free up memory\n",
    "    \n",
    "print('X_train1 shape: ', X_train1.shape, 'y_train1 shape: ',y_train1.shape)\n",
    "    \n",
    "pickle_file = './pre-data/2.pickle'\n",
    "print('reload data 2 ...')\n",
    "with open(pickle_file, 'rb') as f:\n",
    "    pickle_data = pickle.load(f)\n",
    "    X_train2 = pickle_data['X_train']\n",
    "    y_train2 = pickle_data['y_train']\n",
    "    del pickle_data  # Free up memory\n",
    "    \n",
    "print('X_train2 shape: ', X_train2.shape, 'y_train2 shape: ',y_train2.shape)"
   ]
  },
  {
   "cell_type": "code",
   "execution_count": 3,
   "metadata": {},
   "outputs": [
    {
     "name": "stdout",
     "output_type": "stream",
     "text": [
      "combine data set 1 and 2 ...\n",
      "X_train shape:  (8036, 160, 320, 3) y_train shape:  (8036,)\n"
     ]
    }
   ],
   "source": [
    "# Combine the data set 1 and 2\n",
    "X_train = np.concatenate((X_train1, X_train2))\n",
    "y_train = np.concatenate((y_train1, y_train2))\n",
    "X_train, y_train = shuffle(X_train, y_train)\n",
    "print('combine data set 1 and 2 ...')\n",
    "print('X_train shape: ', X_train.shape, 'y_train shape: ',y_train.shape)"
   ]
  },
  {
   "cell_type": "markdown",
   "metadata": {},
   "source": [
    "## Model architecture"
   ]
  },
  {
   "cell_type": "code",
   "execution_count": 4,
   "metadata": {
    "collapsed": true
   },
   "outputs": [],
   "source": [
    "model = Sequential()\n",
    "model.add(Lambda(lambda x: x/255. - 0.5, input_shape=(160, 320, 3)))\n",
    "model.add(Convolution2D(6, 5, 5, activation='relu'))\n",
    "model.add(MaxPooling2D())\n",
    "model.add(Convolution2D(6, 5, 5, activation='relu'))\n",
    "model.add(MaxPooling2D())\n",
    "model.add(Flatten())\n",
    "model.add(Dense(120))\n",
    "model.add(Dense(84))\n",
    "model.add(Dense(1))\n",
    "\n"
   ]
  },
  {
   "cell_type": "markdown",
   "metadata": {},
   "source": [
    "## Training method"
   ]
  },
  {
   "cell_type": "code",
   "execution_count": 5,
   "metadata": {},
   "outputs": [
    {
     "name": "stdout",
     "output_type": "stream",
     "text": [
      "Train on 6428 samples, validate on 1608 samples\n",
      "Epoch 1/3\n",
      "6428/6428 [==============================] - 295s - loss: 3.3236 - val_loss: 0.0149\n",
      "Epoch 2/3\n",
      "6428/6428 [==============================] - 288s - loss: 0.0125 - val_loss: 0.0127\n",
      "Epoch 3/3\n",
      "6428/6428 [==============================] - 299s - loss: 0.0109 - val_loss: 0.0119\n"
     ]
    }
   ],
   "source": [
    "model.compile(loss='mse', optimizer='adam')\n",
    "model.fit(X_train, y_train, validation_split=0.2, shuffle=True, nb_epoch=3)\n",
    "\n",
    "model.save('model.h5')"
   ]
  },
  {
   "cell_type": "code",
   "execution_count": null,
   "metadata": {
    "collapsed": true
   },
   "outputs": [],
   "source": []
  }
 ],
 "metadata": {
  "kernelspec": {
   "display_name": "Python 3",
   "language": "python",
   "name": "python3"
  },
  "language_info": {
   "codemirror_mode": {
    "name": "ipython",
    "version": 3
   },
   "file_extension": ".py",
   "mimetype": "text/x-python",
   "name": "python",
   "nbconvert_exporter": "python",
   "pygments_lexer": "ipython3",
   "version": "3.5.2"
  },
  "widgets": {
   "state": {},
   "version": "1.1.2"
  }
 },
 "nbformat": 4,
 "nbformat_minor": 2
}
