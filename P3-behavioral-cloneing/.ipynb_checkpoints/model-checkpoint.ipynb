{
 "cells": [
  {
   "cell_type": "code",
   "execution_count": 1,
   "metadata": {},
   "outputs": [
    {
     "name": "stderr",
     "output_type": "stream",
     "text": [
      "Using TensorFlow backend.\n"
     ]
    }
   ],
   "source": [
    "import csv\n",
    "import cv2\n",
    "import numpy as np\n",
    "import os\n",
    "import pickle\n",
    "from sklearn.utils import shuffle\n",
    "from sklearn.model_selection import train_test_split\n",
    "import matplotlib.pyplot as plt\n",
    "\n",
    "from keras.models import Sequential\n",
    "from keras.layers import Flatten, Dense, Lambda, Cropping2D, Dropout\n",
    "from keras.layers.convolutional import Convolution2D\n",
    "from keras.layers.pooling import MaxPooling2D\n",
    "from keras.optimizers import Adam"
   ]
  },
  {
   "cell_type": "code",
   "execution_count": 7,
   "metadata": {},
   "outputs": [
    {
     "name": "stdout",
     "output_type": "stream",
     "text": [
      "8132\n",
      "train:  6505\n",
      "valida:  1627\n"
     ]
    }
   ],
   "source": [
    "lines = []\n",
    "with open('./sample_data/data/driving_log.csv') as file:\n",
    "    file.readline()\n",
    "    reader = csv.reader(file)\n",
    "    for line in reader:\n",
    "        lines.append(line)\n",
    "        \n",
    "with open('./my_data/driving_log.csv') as file:\n",
    "    file.readline()\n",
    "    reader = csv.reader(file)\n",
    "    for line in reader:\n",
    "        lines.append(line)\n",
    "print(len(lines))\n",
    "        \n",
    "train_lines, valida_lines = train_test_split(lines, test_size=0.2)\n",
    "print('train: ', len(train_lines))\n",
    "print('valida: ', len(valida_lines))"
   ]
  },
  {
   "cell_type": "code",
   "execution_count": 13,
   "metadata": {
    "scrolled": true
   },
   "outputs": [],
   "source": [
    "def generator(samples, batch_size):\n",
    "    ns = len(samples)\n",
    "    while 1:\n",
    "        samples = shuffle(samples)\n",
    "        for offset in range(0, ns, batch_size):\n",
    "            batch_samples = samples[offset:offset + batch_size]\n",
    "            images = []\n",
    "            angles = []\n",
    "            for sample in batch_samples:\n",
    "                center_path = './sample_data/data/IMG/' + sample[0].split('/')[-1]\n",
    "                center_img = cv2.imread(center_path)\n",
    "                center_img = cv2.resize(center_img, None, fx=0.25, fy=0.5)\n",
    "                center_img = cv2.cvtColor(center_img, cv2.COLOR_BGR2RGB)\n",
    "                center_angle = float(line[3])\n",
    "                images.append(center_img)\n",
    "                angles.append(center_angle)\n",
    "                images.append(cv2.flip(center_img, 1))\n",
    "                angles.append(-center_angle)\n",
    "\n",
    "                left_path = './sample_data/data/IMG/' + sample[1].split('/')[-1]\n",
    "                left_img = cv2.imread(left_path)\n",
    "                left_img = cv2.resize(left_img, None, fx=0.25, fy=0.5)\n",
    "                left_img = cv2.cvtColor(left_img, cv2.COLOR_BGR2RGB)\n",
    "                left_angle = float(line[3]) + 0.20\n",
    "                images.append(left_img)\n",
    "                angles.append(left_angle)\n",
    "\n",
    "                right_path = './sample_data/data/IMG/' + sample[2].split('/')[-1]\n",
    "                right_img = cv2.imread(right_path)\n",
    "                right_img = cv2.resize(right_img, None, fx=0.25, fy=0.5)\n",
    "                right_img = cv2.cvtColor(right_img, cv2.COLOR_BGR2RGB)\n",
    "                right_angle = float(line[3]) - 0.25\n",
    "                images.append(right_img)\n",
    "                angles.append(right_angle)\n",
    "                \n",
    "            X_train = np.array(images)\n",
    "            y_train = np.array(angles)\n",
    "            yield shuffle(X_train, y_train)\n",
    "            \n",
    "train_generator = generator(train_lines, batch_size=128)\n",
    "valida_generator = generator(valida_lines, batch_size=128)"
   ]
  },
  {
   "cell_type": "code",
   "execution_count": 17,
   "metadata": {},
   "outputs": [],
   "source": [
    "# nvidia = Sequential()\n",
    "# nvidia.add(Lambda(lambda x: x/127.5 - 1.0, input_shape=(80, 160, 3)))\n",
    "# nvidia.add(Cropping2D(cropping=((35, 13), (0, 0))))\n",
    "# nvidia.add(Convolution2D(24, 3, 3, subsample=(2, 2), activation='relu'))\n",
    "# nvidia.add(Convolution2D(36, 3, 3, subsample=(2, 2), activation='relu'))\n",
    "# nvidia.add(Convolution2D(48, 3, 3, activation='relu'))\n",
    "# nvidia.add(Convolution2D(64, 3, 3, activation='relu'))\n",
    "# nvidia.add(Convolution2D(64, 3, 3, activation='relu'))\n",
    "# nvidia.add(Dropout(0.5))\n",
    "# nvidia.add(Flatten())\n",
    "# nvidia.add(Dense(100))\n",
    "# nvidia.add(Dense(50))\n",
    "# nvidia.add(Dense(10))\n",
    "# nvidia.add(Dense(1))"
   ]
  },
  {
   "cell_type": "code",
   "execution_count": 14,
   "metadata": {},
   "outputs": [],
   "source": [
    "nvidia = Sequential()\n",
    "nvidia.add(Lambda(lambda x: x/127. - 1.0, input_shape=(80, 80, 3)))\n",
    "nvidia.add(Cropping2D(cropping=((35, 13), (0, 0))))\n",
    "nvidia.add(Convolution2D(24, 5, 5, border_mode='same', subsample=(2, 2), activation='relu'))\n",
    "nvidia.add(Convolution2D(36, 5, 5, border_mode='same', subsample=(2, 2), activation='relu'))\n",
    "nvidia.add(Dropout(0.5))\n",
    "nvidia.add(Convolution2D(48, 5, 5, border_mode='same', activation='relu'))\n",
    "nvidia.add(Convolution2D(64, 3, 3, activation='relu'))\n",
    "nvidia.add(Convolution2D(64, 3, 3, activation='relu'))\n",
    "nvidia.add(Dropout(0.5))\n",
    "nvidia.add(Flatten())\n",
    "nvidia.add(Dense(1000))\n",
    "nvidia.add(Dense(100))\n",
    "nvidia.add(Dense(50))\n",
    "nvidia.add(Dense(10))\n",
    "nvidia.add(Dense(1))"
   ]
  },
  {
   "cell_type": "code",
   "execution_count": 15,
   "metadata": {},
   "outputs": [
    {
     "name": "stdout",
     "output_type": "stream",
     "text": [
      "Epoch 1/7\n",
      "26020/26020 [==============================] - 22s - loss: 0.0260 - val_loss: 0.0178\n",
      "Epoch 2/7\n",
      "26020/26020 [==============================] - 19s - loss: 0.0174 - val_loss: 0.0155\n",
      "Epoch 3/7\n",
      "26020/26020 [==============================] - 19s - loss: 0.0157 - val_loss: 0.0142\n",
      "Epoch 4/7\n",
      "26020/26020 [==============================] - 19s - loss: 0.0146 - val_loss: 0.0133\n",
      "Epoch 5/7\n",
      "26020/26020 [==============================] - 20s - loss: 0.0141 - val_loss: 0.0130\n",
      "Epoch 6/7\n",
      "26020/26020 [==============================] - 20s - loss: 0.0137 - val_loss: 0.0129\n",
      "Epoch 7/7\n",
      "26020/26020 [==============================] - 19s - loss: 0.0133 - val_loss: 0.0126\n"
     ]
    }
   ],
   "source": [
    "# Hyperparameters\n",
    "LEARNING_RATE = 1e-4\n",
    "EPOCHS = 7\n",
    "\n",
    "# Training\n",
    "nvidia.compile(loss='mse', optimizer=Adam(LEARNING_RATE))\n",
    "nvidia.fit_generator(train_generator, \n",
    "                     samples_per_epoch=len(4*train_lines),\n",
    "                     validation_data=valida_generator, \n",
    "                     nb_val_samples=len(4*valida_lines), \n",
    "                     nb_epoch=EPOCHS)\n",
    "nvidia.save('model.h5')"
   ]
  }
 ],
 "metadata": {
  "kernelspec": {
   "display_name": "Python 3",
   "language": "python",
   "name": "python3"
  },
  "language_info": {
   "codemirror_mode": {
    "name": "ipython",
    "version": 3
   },
   "file_extension": ".py",
   "mimetype": "text/x-python",
   "name": "python",
   "nbconvert_exporter": "python",
   "pygments_lexer": "ipython3",
   "version": "3.5.2"
  }
 },
 "nbformat": 4,
 "nbformat_minor": 2
}
