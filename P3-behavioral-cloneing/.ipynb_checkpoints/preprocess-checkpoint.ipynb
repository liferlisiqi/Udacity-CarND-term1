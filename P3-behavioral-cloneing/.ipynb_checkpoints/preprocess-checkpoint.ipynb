{
 "cells": [
  {
   "cell_type": "code",
   "execution_count": 1,
   "metadata": {},
   "outputs": [
    {
     "data": {
      "text/html": [
       "<style>.container { width:100%; }</style>"
      ],
      "text/plain": [
       "<IPython.core.display.HTML object>"
      ]
     },
     "metadata": {},
     "output_type": "display_data"
    }
   ],
   "source": [
    "from IPython.display import display, HTML\n",
    "display(HTML(data=\"\"\"<style>.container { width:100%; }</style>\"\"\"))"
   ]
  },
  {
   "cell_type": "markdown",
   "metadata": {},
   "source": [
    "# Data preprocessing"
   ]
  },
  {
   "cell_type": "code",
   "execution_count": 2,
   "metadata": {
    "collapsed": true
   },
   "outputs": [],
   "source": [
    "import csv\n",
    "import cv2\n",
    "import numpy as np\n",
    "import os\n",
    "import pickle"
   ]
  },
  {
   "cell_type": "markdown",
   "metadata": {},
   "source": [
    "## Read data"
   ]
  },
  {
   "cell_type": "code",
   "execution_count": 3,
   "metadata": {
    "collapsed": true
   },
   "outputs": [],
   "source": [
    "lines = []\n",
    "with open('./sample_data/data/driving_log.csv') as f:\n",
    "    f.readline()\n",
    "    reader = csv.reader(f)\n",
    "    for line in reader:\n",
    "        lines.append(line)\n",
    "        \n",
    "# print(lines)"
   ]
  },
  {
   "cell_type": "markdown",
   "metadata": {},
   "source": [
    "## Get images/features and turning angles/labels"
   ]
  },
  {
   "cell_type": "code",
   "execution_count": 5,
   "metadata": {},
   "outputs": [
    {
     "name": "stdout",
     "output_type": "stream",
     "text": [
      "(16072, 160, 320, 3) (16072,)\n",
      "[208 163 130] 0.0\n"
     ]
    }
   ],
   "source": [
    "images = []\n",
    "angles = []\n",
    "for line in lines:\n",
    "    image_path = line[0].split('/')[-1]\n",
    "    image_path = './sample_data/data/IMG/' + image_path\n",
    "    image = cv2.imread(image_path)\n",
    "    images.append(image)\n",
    "    angle = float(line[3])\n",
    "    angles.append(angle)\n",
    "    images.append(cv2.flip(image, 1))\n",
    "    angles.append(-angle)\n",
    "    \n",
    "X_train = np.array(images)\n",
    "y_train = np.array(angles)\n",
    "print(X_train.shape, y_train.shape)\n",
    "print(X_train[0][0][0], y_train[0])"
   ]
  },
  {
   "cell_type": "markdown",
   "metadata": {},
   "source": [
    "## Save the preprocessing data"
   ]
  },
  {
   "cell_type": "code",
   "execution_count": 7,
   "metadata": {},
   "outputs": [
    {
     "name": "stdout",
     "output_type": "stream",
     "text": [
      "Saving data to pickle file...\n",
      "Data cached in pickle file.\n",
      "Saving data to pickle file...\n",
      "Data cached in pickle file.\n",
      "Saving data to pickle file...\n",
      "Data cached in pickle file.\n",
      "Saving data to pickle file...\n",
      "Data cached in pickle file.\n"
     ]
    }
   ],
   "source": [
    "def save_data(pickle_file, start, end):\n",
    "    if not os.path.isfile(pickle_file):\n",
    "        print('Saving data to pickle file...')\n",
    "        try:\n",
    "            with open(pickle_file, 'wb') as pfile:\n",
    "                pickle.dump(\n",
    "                    {\n",
    "                        'X_train': X_train[start:end],\n",
    "                        'y_train': y_train[start:end]\n",
    "                    },\n",
    "                    pfile, protocol=2)\n",
    "        except Exception as e:\n",
    "            print('Unable to save data to', pickle_file, ':', e)\n",
    "            raise\n",
    "    print('Data cached in pickle file.')\n",
    "    \n",
    "save_data('./pre-data/1.pickle', 0, 4018)\n",
    "save_data('./pre-data/2.pickle', 4018, 8036)\n",
    "save_data('./pre-data/3.pickle', 8036, 12054)\n",
    "save_data('./pre-data/4.pickle', 12054, 16072)"
   ]
  },
  {
   "cell_type": "code",
   "execution_count": null,
   "metadata": {
    "collapsed": true
   },
   "outputs": [],
   "source": []
  }
 ],
 "metadata": {
  "kernelspec": {
   "display_name": "Python 3",
   "language": "python",
   "name": "python3"
  },
  "language_info": {
   "codemirror_mode": {
    "name": "ipython",
    "version": 3
   },
   "file_extension": ".py",
   "mimetype": "text/x-python",
   "name": "python",
   "nbconvert_exporter": "python",
   "pygments_lexer": "ipython3",
   "version": "3.5.2"
  },
  "widgets": {
   "state": {},
   "version": "1.1.2"
  }
 },
 "nbformat": 4,
 "nbformat_minor": 2
}
