{
 "cells": [
  {
   "cell_type": "code",
   "execution_count": 1,
   "metadata": {
    "collapsed": true
   },
   "outputs": [],
   "source": [
    "import numpy as np\n",
    "import pandas as pd"
   ]
  },
  {
   "cell_type": "markdown",
   "metadata": {},
   "source": [
    "# data preparation"
   ]
  },
  {
   "cell_type": "code",
   "execution_count": 2,
   "metadata": {
    "scrolled": true
   },
   "outputs": [
    {
     "name": "stdout",
     "output_type": "stream",
     "text": [
      "   admit  gre   gpa  rank\n",
      "0      0  380  3.61     3\n",
      "1      1  660  3.67     3\n",
      "2      1  800  4.00     1\n",
      "3      1  640  3.19     4\n",
      "4      0  520  2.93     4\n",
      "5      1  760  3.00     2\n",
      "6      1  560  2.98     1\n",
      "7      0  400  3.08     2\n",
      "8      1  540  3.39     3\n",
      "9      0  700  3.92     2\n"
     ]
    }
   ],
   "source": [
    "admissions = pd.read_csv('binary.csv')\n",
    "print(admissions[0:10])"
   ]
  },
  {
   "cell_type": "code",
   "execution_count": 3,
   "metadata": {},
   "outputs": [
    {
     "name": "stdout",
     "output_type": "stream",
     "text": [
      "   admit  gre   gpa  rank  rank_1  rank_2  rank_3  rank_4\n",
      "0      0  380  3.61     3       0       0       1       0\n",
      "1      1  660  3.67     3       0       0       1       0\n",
      "2      1  800  4.00     1       1       0       0       0\n",
      "3      1  640  3.19     4       0       0       0       1\n",
      "4      0  520  2.93     4       0       0       0       1\n",
      "5      1  760  3.00     2       0       1       0       0\n",
      "6      1  560  2.98     1       1       0       0       0\n",
      "7      0  400  3.08     2       0       1       0       0\n",
      "8      1  540  3.39     3       0       0       1       0\n",
      "9      0  700  3.92     2       0       1       0       0\n",
      "   admit  gre   gpa  rank_1  rank_2  rank_3  rank_4\n",
      "0      0  380  3.61       0       0       1       0\n",
      "1      1  660  3.67       0       0       1       0\n",
      "2      1  800  4.00       1       0       0       0\n",
      "3      1  640  3.19       0       0       0       1\n",
      "4      0  520  2.93       0       0       0       1\n",
      "5      1  760  3.00       0       1       0       0\n",
      "6      1  560  2.98       1       0       0       0\n",
      "7      0  400  3.08       0       1       0       0\n",
      "8      1  540  3.39       0       0       1       0\n",
      "9      0  700  3.92       0       1       0       0\n"
     ]
    }
   ],
   "source": [
    "# make dummy variables for rank\n",
    "data = pd.concat([admissions, pd.get_dummies(admissions['rank'], prefix='rank')], axis=1)\n",
    "print(data[0:10])\n",
    "data = data.drop('rank', axis=1)\n",
    "print(data[0:10])"
   ]
  },
  {
   "cell_type": "code",
   "execution_count": 4,
   "metadata": {},
   "outputs": [
    {
     "name": "stdout",
     "output_type": "stream",
     "text": [
      "3.3899\n",
      "0.38056677163\n",
      "   admit       gre       gpa  rank_1  rank_2  rank_3  rank_4\n",
      "0      0 -1.798011  0.578348       0       0       1       0\n",
      "1      1  0.625884  0.736008       0       0       1       0\n",
      "2      1  1.837832  1.603135       1       0       0       0\n",
      "3      1  0.452749 -0.525269       0       0       0       1\n",
      "4      0 -0.586063 -1.208461       0       0       0       1\n",
      "5      1  1.491561 -1.024525       0       1       0       0\n",
      "6      1 -0.239793 -1.077078       1       0       0       0\n",
      "7      0 -1.624876 -0.814312       0       1       0       0\n",
      "8      1 -0.412928  0.000263       0       0       1       0\n",
      "9      0  0.972155  1.392922       0       1       0       0\n"
     ]
    }
   ],
   "source": [
    "# standarize features\n",
    "for field in ['gre', 'gpa']:\n",
    "    mean, std = data[field].mean(), data[field].std()\n",
    "    data.loc[:, field] = (data[field] - mean) / std\n",
    "print(mean)\n",
    "print(std)\n",
    "print(data[0:10])"
   ]
  },
  {
   "cell_type": "code",
   "execution_count": 5,
   "metadata": {},
   "outputs": [
    {
     "name": "stdout",
     "output_type": "stream",
     "text": [
      "360\n",
      "     admit       gre       gpa  rank_1  rank_2  rank_3  rank_4\n",
      "48       0 -1.278605 -2.390908       0       0       0       1\n",
      "50       0  0.452749  1.235263       0       0       1       0\n",
      "80       0  0.972155 -1.287291       0       0       0       1\n",
      "84       1 -0.759199  0.552071       0       0       1       0\n",
      "98       0  0.972155 -1.339844       0       1       0       0\n",
      "110      0  0.799020 -0.814312       0       0       0       1\n",
      "120      1 -0.586063  0.919944       0       1       0       0\n",
      "122      0 -0.586063 -1.418674       0       0       1       0\n",
      "133      0 -0.759199 -0.814312       0       0       1       0\n",
      "148      1 -0.932334 -1.261014       1       0       0       0\n",
      "169      0  0.106478  0.604625       0       0       1       0\n",
      "184      0 -0.759199 -1.576333       0       0       0       1\n",
      "188      0 -0.239793 -0.840588       0       1       0       0\n",
      "202      1  0.972155  1.603135       1       0       0       0\n",
      "204      1  0.106478  1.314093       1       0       0       0\n",
      "207      1  0.452749  0.630901       1       0       0       0\n",
      "229      1  1.145291  0.079093       0       1       0       0\n",
      "233      0 -1.451740 -1.891652       0       0       1       0\n",
      "236      1  0.625884  0.263029       0       1       0       0\n",
      "238      0 -0.759199 -1.392397       0       0       0       1\n",
      "241      1 -0.586063  1.103880       1       0       0       0\n",
      "246      0  0.799020 -0.131120       0       1       0       0\n",
      "248      0  0.799020  0.657178       0       0       1       0\n",
      "253      1 -0.412928  0.420688       0       0       0       1\n",
      "260      0  0.799020 -0.735482       0       1       0       0\n",
      "261      0 -1.278605 -0.630376       0       1       0       0\n",
      "268      1  0.799020  0.184199       0       1       0       0\n",
      "274      0 -0.586063 -0.709205       0       1       0       0\n",
      "291      0  1.837832 -1.602610       0       1       0       0\n",
      "304      0 -3.183094 -1.471227       0       0       1       0\n",
      "309      0 -1.278605 -1.077078       0       0       1       0\n",
      "312      0  0.625884  0.998773       0       0       1       0\n",
      "315      1 -2.490553 -1.444950       0       1       0       0\n",
      "317      1  1.664697  0.630901       0       0       0       1\n",
      "328      0 -0.066657 -0.131120       0       1       0       0\n",
      "356      0  0.972155 -0.315056       0       1       0       0\n",
      "368      0 -0.066657  1.603135       1       0       0       0\n",
      "375      0 -0.239793  0.263029       0       0       0       1\n",
      "386      1  1.318426  1.235263       0       1       0       0\n",
      "396      0 -0.239793 -0.919418       0       0       1       0\n"
     ]
    }
   ],
   "source": [
    "# split off random 10% of the data for testing\n",
    "np.random.seed(21)\n",
    "sample = np.random.choice(data.index, size=int(len(data)*0.9), replace=False)\n",
    "print(len(sample))\n",
    "train_data, test_data = data.loc[sample], data.drop(sample)\n",
    "# data, test_data = data.ix[sample], data.drop(sample)\n",
    "print(test_data)"
   ]
  },
  {
   "cell_type": "code",
   "execution_count": 6,
   "metadata": {},
   "outputs": [
    {
     "name": "stdout",
     "output_type": "stream",
     "text": [
      "          gre       gpa  rank_1  rank_2  rank_3  rank_4\n",
      "48  -1.278605 -2.390908       0       0       0       1\n",
      "50   0.452749  1.235263       0       0       1       0\n",
      "80   0.972155 -1.287291       0       0       0       1\n",
      "84  -0.759199  0.552071       0       0       1       0\n",
      "98   0.972155 -1.339844       0       1       0       0\n",
      "110  0.799020 -0.814312       0       0       0       1\n",
      "120 -0.586063  0.919944       0       1       0       0\n",
      "122 -0.586063 -1.418674       0       0       1       0\n",
      "133 -0.759199 -0.814312       0       0       1       0\n",
      "148 -0.932334 -1.261014       1       0       0       0\n",
      "169  0.106478  0.604625       0       0       1       0\n",
      "184 -0.759199 -1.576333       0       0       0       1\n",
      "188 -0.239793 -0.840588       0       1       0       0\n",
      "202  0.972155  1.603135       1       0       0       0\n",
      "204  0.106478  1.314093       1       0       0       0\n",
      "207  0.452749  0.630901       1       0       0       0\n",
      "229  1.145291  0.079093       0       1       0       0\n",
      "233 -1.451740 -1.891652       0       0       1       0\n",
      "236  0.625884  0.263029       0       1       0       0\n",
      "238 -0.759199 -1.392397       0       0       0       1\n",
      "241 -0.586063  1.103880       1       0       0       0\n",
      "246  0.799020 -0.131120       0       1       0       0\n",
      "248  0.799020  0.657178       0       0       1       0\n",
      "253 -0.412928  0.420688       0       0       0       1\n",
      "260  0.799020 -0.735482       0       1       0       0\n",
      "261 -1.278605 -0.630376       0       1       0       0\n",
      "268  0.799020  0.184199       0       1       0       0\n",
      "274 -0.586063 -0.709205       0       1       0       0\n",
      "291  1.837832 -1.602610       0       1       0       0\n",
      "304 -3.183094 -1.471227       0       0       1       0\n",
      "309 -1.278605 -1.077078       0       0       1       0\n",
      "312  0.625884  0.998773       0       0       1       0\n",
      "315 -2.490553 -1.444950       0       1       0       0\n",
      "317  1.664697  0.630901       0       0       0       1\n",
      "328 -0.066657 -0.131120       0       1       0       0\n",
      "356  0.972155 -0.315056       0       1       0       0\n",
      "368 -0.066657  1.603135       1       0       0       0\n",
      "375 -0.239793  0.263029       0       0       0       1\n",
      "386  1.318426  1.235263       0       1       0       0\n",
      "396 -0.239793 -0.919418       0       0       1       0\n",
      "48     0\n",
      "50     0\n",
      "80     0\n",
      "84     1\n",
      "98     0\n",
      "110    0\n",
      "120    1\n",
      "122    0\n",
      "133    0\n",
      "148    1\n",
      "169    0\n",
      "184    0\n",
      "188    0\n",
      "202    1\n",
      "204    1\n",
      "207    1\n",
      "229    1\n",
      "233    0\n",
      "236    1\n",
      "238    0\n",
      "241    1\n",
      "246    0\n",
      "248    0\n",
      "253    1\n",
      "260    0\n",
      "261    0\n",
      "268    1\n",
      "274    0\n",
      "291    0\n",
      "304    0\n",
      "309    0\n",
      "312    0\n",
      "315    1\n",
      "317    1\n",
      "328    0\n",
      "356    0\n",
      "368    0\n",
      "375    0\n",
      "386    1\n",
      "396    0\n",
      "Name: admit, dtype: int64\n"
     ]
    }
   ],
   "source": [
    "# split into features and targets\n",
    "features_train, targets_train = train_data.drop('admit', axis=1), train_data['admit']\n",
    "features_test, targets_test = test_data.drop('admit', axis=1), test_data['admit']\n",
    "print(features_test)\n",
    "print(targets_test)"
   ]
  },
  {
   "cell_type": "markdown",
   "metadata": {},
   "source": [
    "# backpropagation"
   ]
  },
  {
   "cell_type": "code",
   "execution_count": 7,
   "metadata": {
    "collapsed": true
   },
   "outputs": [],
   "source": [
    "np.random.seed(21)\n",
    "\n",
    "def sigmoid(x):\n",
    "    return 1 / (1 + np.exp(-x))\n",
    "\n",
    "def sigmoid_prime(h):\n",
    "    return h * (1- h)"
   ]
  },
  {
   "cell_type": "code",
   "execution_count": 24,
   "metadata": {
    "collapsed": true
   },
   "outputs": [],
   "source": [
    "# hyperparameters\n",
    "n_hidden = 2 # number of hidden units\n",
    "epochs = 5000\n",
    "learnrate = 0.008"
   ]
  },
  {
   "cell_type": "code",
   "execution_count": 9,
   "metadata": {},
   "outputs": [],
   "source": [
    "n_records, n_features = features_train.shape\n",
    "# print(features_train.shape)\n",
    "last_loss = None"
   ]
  },
  {
   "cell_type": "code",
   "execution_count": 10,
   "metadata": {},
   "outputs": [
    {
     "name": "stdout",
     "output_type": "stream",
     "text": [
      "[[-0.02121432 -0.0453956 ]\n",
      " [ 0.42531176 -0.51306167]\n",
      " [ 0.30430325 -0.69853477]\n",
      " [-0.08404378 -0.09576333]\n",
      " [ 0.46056288 -0.00515452]\n",
      " [-0.25033797  0.56080598]]\n",
      "[ 0.65768472 -0.28137626]\n"
     ]
    }
   ],
   "source": [
    "# initialize weights\n",
    "weights_input_hidden = np.random.normal(loc=0.0, scale=1 / n_features ** 0.5, size=(n_features, n_hidden))\n",
    "# loc(float):mean\n",
    "# scale(float):standard deviation \n",
    "weights_hidden_output = np.random.normal(loc=0.0, scale=1 / n_features ** 0.5, size=n_hidden)\n",
    "print(weights_input_hidden)\n",
    "print(weights_hidden_output)"
   ]
  },
  {
   "cell_type": "code",
   "execution_count": 25,
   "metadata": {},
   "outputs": [
    {
     "name": "stdout",
     "output_type": "stream",
     "text": [
      "train loss:  0.143045821488\n",
      "train loss:  0.140832749194\n",
      "train loss:  0.138683312292\n",
      "train loss:  0.136595276261\n",
      "train loss:  0.134566487397\n",
      "train loss:  0.132594870733\n",
      "train loss:  0.130678427868\n",
      "train loss:  0.128815234738\n",
      "train loss:  0.127003439352\n",
      "train loss:  0.125241259495\n",
      "train loss:  0.123526980434\n",
      "train loss:  0.121858952626\n",
      "train loss:  0.120235589446\n",
      "train loss:  0.118655364942\n",
      "train loss:  0.117116811628\n",
      "train loss:  0.115618518313\n",
      "train loss:  0.114159127987\n",
      "train loss:  0.112737335751\n",
      "train loss:  0.111351886805\n",
      "train loss:  0.110001574493\n",
      "train loss:  0.108685238407\n",
      "train loss:  0.107401762552\n",
      "train loss:  0.106150073572\n",
      "train loss:  0.104929139035\n",
      "train loss:  0.103737965779\n",
      "train loss:  0.102575598324\n",
      "train loss:  0.101441117333\n",
      "train loss:  0.100333638141\n",
      "train loss:  0.0992523093358\n",
      "train loss:  0.0981963113966\n",
      "train loss:  0.097164855387\n",
      "train loss:  0.0961571817002\n",
      "train loss:  0.0951725588558\n",
      "train loss:  0.0942102823466\n",
      "train loss:  0.0932696735331\n",
      "train loss:  0.0923500785841\n",
      "train loss:  0.0914508674628\n",
      "train loss:  0.090571432955\n",
      "train loss:  0.0897111897391\n",
      "train loss:  0.088869573496\n",
      "train loss:  0.0880460400568\n",
      "train loss:  0.0872400645874\n",
      "train loss:  0.0864511408085\n",
      "train loss:  0.0856787802485\n",
      "train loss:  0.0849225115292\n",
      "train loss:  0.0841818796826\n",
      "train loss:  0.0834564454965\n",
      "train loss:  0.0827457848891\n",
      "train loss:  0.0820494883101\n",
      "train loss:  0.081367160168\n"
     ]
    }
   ],
   "source": [
    "# backpropagation\n",
    "for e in range(epochs):\n",
    "    del_w_input_hidden = np.zeros(weights_input_hidden.shape)\n",
    "    del_w_hidden_output = np.zeros(weights_hidden_output.shape)\n",
    "    for x, y in zip(features_train.values, targets_train):\n",
    "        \n",
    "        # forward pass\n",
    "        hidden_input = np.dot(x, weights_input_hidden)\n",
    "#         print(hidden_input)\n",
    "        hidden_output = sigmoid(hidden_input)\n",
    "#         print(hidden_output)\n",
    "        output_input = np.dot(hidden_output, weights_hidden_output)\n",
    "#         print(output_input)\n",
    "        output = sigmoid(output_input)\n",
    "#         print(output)\n",
    "        \n",
    "        # backward pass\n",
    "        error = y - output\n",
    "        \n",
    "        del_output_error = error * sigmoid_prime(output)\n",
    "        del_hidden_error = np.dot(del_output_error, weights_hidden_output) * sigmoid_prime(hidden_output)\n",
    "        \n",
    "        del_w_hidden_output += del_output_error * hidden_output\n",
    "        del_w_input_hidden += del_hidden_error * x[:, None]\n",
    "        \n",
    "    weights_hidden_output += learnrate * del_w_hidden_output  / n_records\n",
    "    weights_input_hidden += learnrate * del_w_input_hidden / n_records\n",
    "    \n",
    "    # print out the mean square error on the training set\n",
    "    if e % 100 == 0:\n",
    "        hidden_output = sigmoid(np.dot(x, weights_input_hidden))\n",
    "        output = sigmoid(np.dot(hidden_output, weights_hidden_output))\n",
    "        loss = np.mean((output - y)**2)\n",
    "        \n",
    "        if last_loss and last_loss < loss:\n",
    "            print(\"train loss: \", loss, \"WARNING loss increasiong\")\n",
    "        else:\n",
    "            print(\"train loss: \", loss)\n",
    "        last_loss = loss"
   ]
  },
  {
   "cell_type": "markdown",
   "metadata": {
    "collapsed": true
   },
   "source": [
    "# calculate accuracy on test data"
   ]
  },
  {
   "cell_type": "code",
   "execution_count": 26,
   "metadata": {},
   "outputs": [
    {
     "name": "stdout",
     "output_type": "stream",
     "text": [
      "prediction accuracy: 0.650\n"
     ]
    }
   ],
   "source": [
    "hidden_output = sigmoid(np.dot(features_test, weights_input_hidden))\n",
    "output = sigmoid(np.dot(hidden_output, weights_hidden_output))\n",
    "predictions = output > 0.5 #???\n",
    "accuracy = np.mean(predictions == targets_test)\n",
    "print(\"prediction accuracy: {:.3f}\".format(accuracy))"
   ]
  }
 ],
 "metadata": {
  "kernelspec": {
   "display_name": "Python 3",
   "language": "python",
   "name": "python3"
  },
  "language_info": {
   "codemirror_mode": {
    "name": "ipython",
    "version": 3
   },
   "file_extension": ".py",
   "mimetype": "text/x-python",
   "name": "python",
   "nbconvert_exporter": "python",
   "pygments_lexer": "ipython3",
   "version": "3.5.2"
  },
  "widgets": {
   "state": {},
   "version": "1.1.2"
  }
 },
 "nbformat": 4,
 "nbformat_minor": 2
}
