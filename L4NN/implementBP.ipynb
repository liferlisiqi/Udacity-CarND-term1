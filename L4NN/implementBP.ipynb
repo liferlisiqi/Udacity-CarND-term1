{
 "cells": [
  {
   "cell_type": "code",
   "execution_count": 1,
   "metadata": {
    "collapsed": true
   },
   "outputs": [],
   "source": [
    "import numpy as np\n",
    "import pandas as pd"
   ]
  },
  {
   "cell_type": "code",
   "execution_count": 6,
   "metadata": {
    "scrolled": true
   },
   "outputs": [
    {
     "name": "stdout",
     "output_type": "stream",
     "text": [
      "   admit  gre   gpa  rank\n",
      "0      0  380  3.61     3\n",
      "1      1  660  3.67     3\n",
      "2      1  800  4.00     1\n",
      "3      1  640  3.19     4\n",
      "4      0  520  2.93     4\n",
      "5      1  760  3.00     2\n",
      "6      1  560  2.98     1\n",
      "7      0  400  3.08     2\n",
      "8      1  540  3.39     3\n",
      "9      0  700  3.92     2\n"
     ]
    }
   ],
   "source": [
    "admissions = pd.read_csv('binary.csv')\n",
    "print(admissions[0:10])"
   ]
  },
  {
   "cell_type": "code",
   "execution_count": 7,
   "metadata": {},
   "outputs": [
    {
     "name": "stdout",
     "output_type": "stream",
     "text": [
      "   admit  gre   gpa  rank  rank_1  rank_2  rank_3  rank_4\n",
      "0      0  380  3.61     3       0       0       1       0\n",
      "1      1  660  3.67     3       0       0       1       0\n",
      "2      1  800  4.00     1       1       0       0       0\n",
      "3      1  640  3.19     4       0       0       0       1\n",
      "4      0  520  2.93     4       0       0       0       1\n",
      "5      1  760  3.00     2       0       1       0       0\n",
      "6      1  560  2.98     1       1       0       0       0\n",
      "7      0  400  3.08     2       0       1       0       0\n",
      "8      1  540  3.39     3       0       0       1       0\n",
      "9      0  700  3.92     2       0       1       0       0\n",
      "   admit  gre   gpa  rank_1  rank_2  rank_3  rank_4\n",
      "0      0  380  3.61       0       0       1       0\n",
      "1      1  660  3.67       0       0       1       0\n",
      "2      1  800  4.00       1       0       0       0\n",
      "3      1  640  3.19       0       0       0       1\n",
      "4      0  520  2.93       0       0       0       1\n",
      "5      1  760  3.00       0       1       0       0\n",
      "6      1  560  2.98       1       0       0       0\n",
      "7      0  400  3.08       0       1       0       0\n",
      "8      1  540  3.39       0       0       1       0\n",
      "9      0  700  3.92       0       1       0       0\n"
     ]
    }
   ],
   "source": [
    "# make dummy variables for rank\n",
    "data = pd.concat([admissions, pd.get_dummies(admissions['rank'], prefix='rank')], axis=1)\n",
    "print(data[0:10])\n",
    "data = data.drop('rank', axis=1)\n",
    "print(data[0:10])"
   ]
  },
  {
   "cell_type": "code",
   "execution_count": 8,
   "metadata": {},
   "outputs": [
    {
     "name": "stdout",
     "output_type": "stream",
     "text": [
      "3.3899\n",
      "0.38056677163\n",
      "   admit       gre       gpa  rank_1  rank_2  rank_3  rank_4\n",
      "0      0 -1.798011  0.578348       0       0       1       0\n",
      "1      1  0.625884  0.736008       0       0       1       0\n",
      "2      1  1.837832  1.603135       1       0       0       0\n",
      "3      1  0.452749 -0.525269       0       0       0       1\n",
      "4      0 -0.586063 -1.208461       0       0       0       1\n",
      "5      1  1.491561 -1.024525       0       1       0       0\n",
      "6      1 -0.239793 -1.077078       1       0       0       0\n",
      "7      0 -1.624876 -0.814312       0       1       0       0\n",
      "8      1 -0.412928  0.000263       0       0       1       0\n",
      "9      0  0.972155  1.392922       0       1       0       0\n"
     ]
    }
   ],
   "source": [
    "# standarize features\n",
    "for field in ['gre', 'gpa']:\n",
    "    mean, std = data[field].mean(), data[field].std()\n",
    "    data.loc[:, field] = (data[field] - mean) / std\n",
    "print(mean)\n",
    "print(std)\n",
    "print(data[0:10])"
   ]
  },
  {
   "cell_type": "code",
   "execution_count": 11,
   "metadata": {},
   "outputs": [
    {
     "name": "stdout",
     "output_type": "stream",
     "text": [
      "     admit       gre       gpa  rank_1  rank_2  rank_3  rank_4\n",
      "333      0 -0.239793  0.105369       0       0       1       0\n",
      "296      0 -0.239793 -0.604099       1       0       0       0\n",
      "191      0  1.837832  0.394412       0       0       1       0\n",
      "285      0  0.106478 -0.209950       0       0       0       1\n",
      "289      0 -1.451740 -2.968993       0       0       0       1\n",
      "244      0 -0.412928 -0.919418       1       0       0       0\n",
      "113      0  0.106478 -0.446439       1       0       0       0\n",
      "178      0  0.279614 -0.157397       0       0       1       0\n",
      "97       0 -0.932334  0.473242       0       1       0       0\n",
      "384      1 -0.932334 -2.023035       0       1       0       0\n",
      "62       0  0.452749  0.736008       0       0       1       0\n",
      "150      1  1.837832  0.919944       1       0       0       0\n",
      "138      0  0.279614  0.026539       0       1       0       0\n",
      "369      0  1.837832  1.314093       0       1       0       0\n",
      "252      1 -0.586063  1.603135       0       1       0       0\n",
      "13       0  0.972155 -0.814312       0       1       0       0\n",
      "361      1 -0.412928  0.263029       1       0       0       0\n",
      "379      0 -0.412928 -1.812822       0       1       0       0\n",
      "114      0  1.145291  1.182710       0       0       1       0\n",
      "217      1 -1.105469  0.657178       1       0       0       0\n",
      "31       0  1.491561 -0.104844       0       0       1       0\n",
      "367      0  0.279614  0.630901       0       0       1       0\n",
      "101      0 -0.066657  0.473242       0       0       1       0\n",
      "301      1  0.625884  0.552071       0       0       1       0\n",
      "345      0 -0.759199 -0.945695       0       0       1       0\n",
      "350      1  1.664697  1.603135       0       1       0       0\n",
      "394      1 -1.105469  1.576859       0       0       1       0\n",
      "205      1  1.664697  1.077603       0       0       1       0\n",
      "32       0  0.106478  0.026539       0       0       1       0\n",
      "307      0 -0.066657  0.315582       0       1       0       0\n",
      "144      0 -0.066657  0.026539       0       0       0       1\n",
      "132      0 -0.066657  0.026539       0       1       0       0\n",
      "245      0  1.837832  1.366646       0       0       1       0\n",
      "126      1  0.106478  0.394412       1       0       0       0\n",
      "348      0 -1.624876 -0.078567       0       1       0       0\n",
      "346      0  0.106478 -0.104844       0       1       0       0\n"
     ]
    },
    {
     "name": "stderr",
     "output_type": "stream",
     "text": [
      "/root/miniconda3/envs/carnd-term1/lib/python3.5/site-packages/ipykernel_launcher.py:4: DeprecationWarning: \n",
      ".ix is deprecated. Please use\n",
      ".loc for label based indexing or\n",
      ".iloc for positional indexing\n",
      "\n",
      "See the documentation here:\n",
      "http://pandas.pydata.org/pandas-docs/stable/indexing.html#ix-indexer-is-deprecated\n",
      "  after removing the cwd from sys.path.\n"
     ]
    }
   ],
   "source": [
    "# split off random 10% of the data for testing\n",
    "np.random.seed(21)\n",
    "sample = np.random.choice(data.index, size=int(len(data)*0.9), replace=False)\n",
    "data, test_data = data.ix[sample], data.drop(sample)\n",
    "print(test_data)"
   ]
  },
  {
   "cell_type": "code",
   "execution_count": null,
   "metadata": {
    "collapsed": true
   },
   "outputs": [],
   "source": []
  }
 ],
 "metadata": {
  "kernelspec": {
   "display_name": "Python 3",
   "language": "python",
   "name": "python3"
  },
  "language_info": {
   "codemirror_mode": {
    "name": "ipython",
    "version": 3
   },
   "file_extension": ".py",
   "mimetype": "text/x-python",
   "name": "python",
   "nbconvert_exporter": "python",
   "pygments_lexer": "ipython3",
   "version": "3.5.2"
  },
  "widgets": {
   "state": {},
   "version": "1.1.2"
  }
 },
 "nbformat": 4,
 "nbformat_minor": 2
}
