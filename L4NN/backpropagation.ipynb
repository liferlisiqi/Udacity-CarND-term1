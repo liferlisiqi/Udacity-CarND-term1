{
 "cells": [
  {
   "cell_type": "markdown",
   "metadata": {},
   "source": [
    "the equation of calculate delta of weights:\n",
    "$$\\Delta{W} = -\\eta * \\frac{\\partial{E}}{\\partial{h}} * \\frac{\\partial{h}}{\\partial{w}}$$\n",
    "* the $\\frac{\\partial{E}}{\\partial{h}}$ can be obtain in backward pass\n",
    "* the $\\frac{\\partial{h}}{\\partial{w}}$ can be obtain in forward pass\n",
    "\n",
    "the output error : mean square error(MSE)\n",
    "$$E = (y-\\overline{y})^2/2$$\n",
    "the output:\n",
    "$$\\overline{y} = f(h)$$\n",
    "therefore \n",
    "$$\\frac{\\partial{E}}{\\partial{h}} = -(y-\\overline{y})*f^\\prime(h)$$\n",
    "thus\n",
    "$$\\Delta{W} = \\eta * \\delta * \\frac{\\partial{h}}{\\partial{w}}$$\n",
    "$$\\delta = (y-\\overline{y}) * f^\\prime(h)$$"
   ]
  },
  {
   "cell_type": "code",
   "execution_count": 12,
   "metadata": {
    "collapsed": true
   },
   "outputs": [],
   "source": [
    "import numpy as np"
   ]
  },
  {
   "cell_type": "markdown",
   "metadata": {},
   "source": [
    "active function:sigmoid(x)\n",
    "derivate fo active function:sigmoid_prime(h)"
   ]
  },
  {
   "cell_type": "code",
   "execution_count": 13,
   "metadata": {
    "collapsed": true
   },
   "outputs": [],
   "source": [
    "def sigmoid(x):\n",
    "    return 1 / (1 + np.exp(-x))\n",
    "\n",
    "def sigmoid_prime(h):\n",
    "    return h * (1 - h)"
   ]
  },
  {
   "cell_type": "markdown",
   "metadata": {},
   "source": [
    "input, label, learnrate and weights"
   ]
  },
  {
   "cell_type": "code",
   "execution_count": 14,
   "metadata": {
    "collapsed": true
   },
   "outputs": [],
   "source": [
    "x = np.array([0.5, 0.1, -0.2])\n",
    "target = 0.6\n",
    "learnrate = 0.5\n",
    "\n",
    "weights_input_hidden = np.array([[0.5, -0.6], [0.1, -0.2], [0.1, 0.7]])\n",
    "weights_hidden_output = np.array([0.1, -0.3])"
   ]
  },
  {
   "cell_type": "markdown",
   "metadata": {},
   "source": [
    "# Forward pass"
   ]
  },
  {
   "cell_type": "code",
   "execution_count": 38,
   "metadata": {},
   "outputs": [
    {
     "name": "stdout",
     "output_type": "stream",
     "text": [
      "[ 0.24 -0.46]\n",
      "[ 0.55971365  0.38698582]\n",
      "-0.0601243822315\n",
      "0.48497343085\n"
     ]
    }
   ],
   "source": [
    "hidden_input = np.dot(x, weights_input_hidden)\n",
    "hidden_output = sigmoid(hidden_input)\n",
    "print(hidden_input)\n",
    "print(hidden_output)\n",
    "\n",
    "output_input = np.dot(hidden_output, weights_hidden_output)\n",
    "output = sigmoid(output_input)\n",
    "print(output_input)\n",
    "print(output)"
   ]
  },
  {
   "cell_type": "markdown",
   "metadata": {},
   "source": [
    "# Backward pass"
   ]
  },
  {
   "cell_type": "markdown",
   "metadata": {},
   "source": [
    "calculate the error"
   ]
  },
  {
   "cell_type": "code",
   "execution_count": 36,
   "metadata": {},
   "outputs": [
    {
     "name": "stdout",
     "output_type": "stream",
     "text": [
      "0.11502656915\n"
     ]
    }
   ],
   "source": [
    "error = target - output\n",
    "print(error)"
   ]
  },
  {
   "cell_type": "markdown",
   "metadata": {},
   "source": [
    "calculate error gradient for output layer"
   ]
  },
  {
   "cell_type": "code",
   "execution_count": 31,
   "metadata": {},
   "outputs": [
    {
     "name": "stdout",
     "output_type": "stream",
     "text": [
      "-0.00733171571023\n"
     ]
    }
   ],
   "source": [
    "del_err_output = error * sigmoid_prime(output_input)\n",
    "print(del_err_output)"
   ]
  },
  {
   "cell_type": "markdown",
   "metadata": {},
   "source": [
    "calculate error gradient for hidden layer"
   ]
  },
  {
   "cell_type": "code",
   "execution_count": 32,
   "metadata": {
    "scrolled": true
   },
   "outputs": [
    {
     "name": "stdout",
     "output_type": "stream",
     "text": [
      "[-0.00013373 -0.00147719]\n"
     ]
    }
   ],
   "source": [
    "del_err_hidden = np.dot(del_err_output, weights_hidden_output) * sigmoid_prime(hidden_input)\n",
    "print(del_err_hidden)"
   ]
  },
  {
   "cell_type": "markdown",
   "metadata": {},
   "source": [
    "calculate change in weights for hidden layer to output layer"
   ]
  },
  {
   "cell_type": "code",
   "execution_count": 33,
   "metadata": {
    "scrolled": false
   },
   "outputs": [
    {
     "name": "stdout",
     "output_type": "stream",
     "text": [
      "[-0.00205183 -0.00141864]\n"
     ]
    }
   ],
   "source": [
    "delta_w_h_o = learnrate * del_err_output * hidden_output\n",
    "print(delta_w_h_o)"
   ]
  },
  {
   "cell_type": "markdown",
   "metadata": {},
   "source": [
    "calculate change in weights for input layer to hidden layer"
   ]
  },
  {
   "cell_type": "code",
   "execution_count": 34,
   "metadata": {
    "scrolled": true
   },
   "outputs": [
    {
     "name": "stdout",
     "output_type": "stream",
     "text": [
      "[[ -3.34326236e-05  -3.69298520e-04]\n",
      " [ -6.68652473e-06  -7.38597041e-05]\n",
      " [  1.33730495e-05   1.47719408e-04]]\n"
     ]
    }
   ],
   "source": [
    "delta_w_i_h = learnrate * del_err_hidden * x[:, None]\n",
    "print(delta_w_i_h)"
   ]
  },
  {
   "cell_type": "markdown",
   "metadata": {
    "collapsed": true
   },
   "source": [
    "# Solution"
   ]
  },
  {
   "cell_type": "code",
   "execution_count": 35,
   "metadata": {},
   "outputs": [
    {
     "name": "stdout",
     "output_type": "stream",
     "text": [
      "del_err_output:\n",
      "0.0287306695435\n",
      "del_err_hidden:\n",
      "[ 0.00070802 -0.00204471]\n",
      "Change in weights for hidden layer to output layer:\n",
      "[ 0.00804047  0.00555918]\n",
      "Change in weights for input layer to hidden layer:\n",
      "[[  1.77005547e-04  -5.11178506e-04]\n",
      " [  3.54011093e-05  -1.02235701e-04]\n",
      " [ -7.08022187e-05   2.04471402e-04]]\n"
     ]
    }
   ],
   "source": [
    "## Backwards pass\n",
    "## TODO: Calculate error\n",
    "error = target - output\n",
    "\n",
    "# TODO: Calculate error gradient for output layer\n",
    "del_err_output = error * output * (1 - output)\n",
    "print(\"del_err_output:\")\n",
    "print(del_err_output)\n",
    "\n",
    "# TODO: Calculate error gradient for hidden layer\n",
    "del_err_hidden = np.dot(del_err_output, weights_hidden_output) * \\\n",
    "                 hidden_output * (1 - hidden_output)\n",
    "print(\"del_err_hidden:\")\n",
    "print(del_err_hidden)\n",
    "\n",
    "# TODO: Calculate change in weights for hidden layer to output layer\n",
    "delta_w_h_o = learnrate * del_err_output * hidden_output\n",
    "\n",
    "# TODO: Calculate change in weights for input layer to hidden layer\n",
    "delta_w_i_h = learnrate * del_err_hidden * x[:, None]\n",
    "\n",
    "print('Change in weights for hidden layer to output layer:')\n",
    "print(delta_w_h_o)\n",
    "print('Change in weights for input layer to hidden layer:')\n",
    "print(delta_w_i_h)"
   ]
  },
  {
   "cell_type": "code",
   "execution_count": null,
   "metadata": {
    "collapsed": true
   },
   "outputs": [],
   "source": []
  }
 ],
 "metadata": {
  "kernelspec": {
   "display_name": "Python 3",
   "language": "python",
   "name": "python3"
  },
  "language_info": {
   "codemirror_mode": {
    "name": "ipython",
    "version": 3
   },
   "file_extension": ".py",
   "mimetype": "text/x-python",
   "name": "python",
   "nbconvert_exporter": "python",
   "pygments_lexer": "ipython3",
   "version": "3.5.2"
  },
  "widgets": {
   "state": {},
   "version": "1.1.2"
  }
 },
 "nbformat": 4,
 "nbformat_minor": 2
}
