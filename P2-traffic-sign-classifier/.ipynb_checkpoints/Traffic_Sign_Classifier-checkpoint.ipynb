{
 "cells": [
  {
   "cell_type": "code",
   "execution_count": 1,
   "metadata": {},
   "outputs": [
    {
     "data": {
      "text/html": [
       "<style>.container { width:100%; }</style>"
      ],
      "text/plain": [
       "<IPython.core.display.HTML object>"
      ]
     },
     "metadata": {},
     "output_type": "display_data"
    }
   ],
   "source": [
    "from IPython.display import display, HTML\n",
    "display(HTML(data=\"\"\"<style>.container { width:100%; }</style>\"\"\"))"
   ]
  },
  {
   "cell_type": "markdown",
   "metadata": {},
   "source": [
    "# Self-Driving Car Engineer Nanodegree\n",
    "\n",
    "## Deep Learning\n",
    "\n",
    "## Project: Build a Traffic Sign Recognition Classifier\n",
    "\n",
    "In this notebook, a template is provided for you to implement your functionality in stages, which is required to successfully complete this project. If additional code is required that cannot be included in the notebook, be sure that the Python code is successfully imported and included in your submission if necessary. \n",
    "\n",
    "> **Note**: Once you have completed all of the code implementations, you need to finalize your work by exporting the iPython Notebook as an HTML document. Before exporting the notebook to html, all of the code cells need to have been run so that reviewers can see the final implementation and output. You can then export the notebook by using the menu above and navigating to  \\n\",\n",
    "    \"**File -> Download as -> HTML (.html)**. Include the finished document along with this notebook as your submission. \n",
    "\n",
    "In addition to implementing code, there is a writeup to complete. The writeup should be completed in a separate file, which can be either a markdown file or a pdf document. There is a [write up template](https://github.com/udacity/CarND-Traffic-Sign-Classifier-Project/blob/master/writeup_template.md) that can be used to guide the writing process. Completing the code template and writeup template will cover all of the [rubric points](https://review.udacity.com/#!/rubrics/481/view) for this project.\n",
    "\n",
    "The [rubric](https://review.udacity.com/#!/rubrics/481/view) contains \"Stand Out Suggestions\" for enhancing the project beyond the minimum requirements. The stand out suggestions are optional. If you decide to pursue the \"stand out suggestions\", you can include the code in this Ipython notebook and also discuss the results in the writeup file.\n",
    "\n",
    "\n",
    ">**Note:** Code and Markdown cells can be executed using the **Shift + Enter** keyboard shortcut. In addition, Markdown cells can be edited by typically double-clicking the cell to enter edit mode."
   ]
  },
  {
   "cell_type": "code",
   "execution_count": 2,
   "metadata": {},
   "outputs": [
    {
     "name": "stdout",
     "output_type": "stream",
     "text": [
      "All modules imported.\n"
     ]
    }
   ],
   "source": [
    "import hashlib\n",
    "import os\n",
    "import pickle\n",
    "import csv\n",
    "# from urllib.request import urlretrieve\n",
    "import matplotlib.pyplot as plt\n",
    "import random\n",
    "\n",
    "import numpy as np\n",
    "from PIL import Image\n",
    "from sklearn.preprocessing import LabelBinarizer\n",
    "from sklearn.utils import resample\n",
    "# from tqdm import tqdm\n",
    "\n",
    "print('All modules imported.')"
   ]
  },
  {
   "cell_type": "markdown",
   "metadata": {},
   "source": [
    "---\n",
    "## Step 0: Load The Data"
   ]
  },
  {
   "cell_type": "code",
   "execution_count": 3,
   "metadata": {},
   "outputs": [
    {
     "name": "stdout",
     "output_type": "stream",
     "text": [
      "[28 25 24]\n",
      "(34799, 32, 32, 3) (34799,)\n",
      "uint8 uint8\n",
      "(4410, 32, 32, 3) (4410,)\n",
      "(12630, 32, 32, 3) (12630,)\n"
     ]
    }
   ],
   "source": [
    "# Load pickled data\n",
    "training_file = \"./traffic-signs-data/train.p\"\n",
    "validation_file= \"./traffic-signs-data/valid.p\"\n",
    "testing_file = \"./traffic-signs-data/test.p\"\n",
    "signname_file = \"./signnames.csv\"\n",
    "\n",
    "with open(training_file, mode='rb') as f:\n",
    "    train = pickle.load(f)\n",
    "with open(validation_file, mode='rb') as f:\n",
    "    valid = pickle.load(f)\n",
    "with open(testing_file, mode='rb') as f:\n",
    "    test = pickle.load(f)\n",
    "with open(signname_file) as f:\n",
    "    f.readline() # skip the headers\n",
    "    signnames = [row[1] for row in csv.reader(f)]\n",
    "\n",
    "# The images' pixels in [0, 255]\n",
    "X_train, y_train = train['features'], train['labels']\n",
    "# print(X_train.dtype, type(X_train))\n",
    "print(X_train[0][0][0])\n",
    "print(X_train.shape, y_train.shape)\n",
    "print(X_train.dtype, y_train.dtype)\n",
    "X_valid, y_valid = valid['features'], valid['labels']\n",
    "print(X_valid.shape, y_valid.shape)\n",
    "X_test, y_test = test['features'], test['labels']\n",
    "print(X_test.shape, y_test.shape)"
   ]
  },
  {
   "cell_type": "markdown",
   "metadata": {},
   "source": [
    "---\n",
    "\n",
    "## Step 1: Dataset Summary & Exploration\n",
    "\n",
    "The pickled data is a dictionary with 4 key/value pairs:\n",
    "\n",
    "- `'features'` is a 4D array containing raw pixel data of the traffic sign images, (num examples, width, height, channels).\n",
    "- `'labels'` is a 1D array containing the label/class id of the traffic sign. The file `signnames.csv` contains id -> name mappings for each id.\n",
    "- `'sizes'` is a list containing tuples, (width, height) representing the original width and height the image.\n",
    "- `'coords'` is a list containing tuples, (x1, y1, x2, y2) representing coordinates of a bounding box around the sign in the image. **THESE COORDINATES ASSUME THE ORIGINAL IMAGE. THE PICKLED DATA CONTAINS RESIZED VERSIONS (32 by 32) OF THESE IMAGES**\n",
    "\n",
    "Complete the basic data summary below. Use python, numpy and/or pandas methods to calculate the data summary rather than hard coding the results. For example, the [pandas shape method](http://pandas.pydata.org/pandas-docs/stable/generated/pandas.DataFrame.shape.html) might be useful for calculating some of the summary results. "
   ]
  },
  {
   "cell_type": "markdown",
   "metadata": {},
   "source": [
    "### Include an exploratory visualization of the dataset"
   ]
  },
  {
   "cell_type": "markdown",
   "metadata": {},
   "source": [
    "Visualize the German Traffic Signs Dataset using the pickled file(s). This is open ended, suggestions include: plotting traffic sign images, plotting the count of each sign, etc. \n",
    "\n",
    "The [Matplotlib](http://matplotlib.org/) [examples](http://matplotlib.org/examples/index.html) and [gallery](http://matplotlib.org/gallery.html) pages are a great resource for doing visualizations in Python.\n",
    "\n",
    "**NOTE:** It's recommended you start with something simple first. If you wish to do more, come back to it after you've completed the rest of the sections. It can be interesting to look at the distribution of classes in the training, validation and test set. Is the distribution the same? Are there more examples of some classes than others?"
   ]
  },
  {
   "cell_type": "code",
   "execution_count": 6,
   "metadata": {},
   "outputs": [
    {
     "name": "stdout",
     "output_type": "stream",
     "text": [
      "35 Ahead only\n"
     ]
    },
    {
     "data": {
      "image/png": "[encoded data removed]",
      "text/plain": [
       "<matplotlib.figure.Figure at 0x7efc427a0b70>"
      ]
     },
     "metadata": {},
     "output_type": "display_data"
    }
   ],
   "source": [
    "# Visualizations will be shown in the notebook.\n",
    "%matplotlib inline\n",
    "\n",
    "index = random.randint(0, len(X_train))\n",
    "image = X_train[index]\n",
    "\n",
    "plt.figure(figsize=(1,1))\n",
    "plt.imshow(image, cmap=\"gray\")\n",
    "print(y_train[index], signnames[y_train[index]])"
   ]
  },
  {
   "cell_type": "markdown",
   "metadata": {},
   "source": [
    "## Step2: Pre-process the Data Set (normalization, grayscale, etc.)"
   ]
  },
  {
   "cell_type": "markdown",
   "metadata": {},
   "source": [
    "Minimally, the image data should be normalized so that the data has mean zero and equal variance. For image data, `(pixel - 128)/ 128` is a quick way to approximately normalize the data and can be used in this project. \n",
    "\n",
    "Other pre-processing steps are optional. You can try different techniques to see if it improves performance. \n",
    "\n",
    "Use the code cell (or multiple code cells, if necessary) to implement the first step of your project."
   ]
  },
  {
   "cell_type": "code",
   "execution_count": 7,
   "metadata": {
    "scrolled": true
   },
   "outputs": [
    {
     "name": "stdout",
     "output_type": "stream",
     "text": [
      "<class 'numpy.ndarray'> float32\n",
      "[ 0.10980392  0.09803922  0.09411765]\n",
      "<class 'numpy.ndarray'> float32\n",
      "<class 'numpy.ndarray'> float32\n"
     ]
    }
   ],
   "source": [
    "# Normalized features\n",
    "X_train = X_train.astype(np.float32) / 255.\n",
    "X_valid= X_valid.astype(np.float32) / 255.\n",
    "X_test= X_test.astype(np.float32) / 255.\n",
    "\n",
    "print(type(X_train[0]), X_train.dtype)\n",
    "print(X_train[0][0][0])\n",
    "print(type(X_valid[0]), X_valid.dtype)\n",
    "print(type(X_test[0]), X_test.dtype)"
   ]
  },
  {
   "cell_type": "code",
   "execution_count": 65,
   "metadata": {
    "collapsed": true
   },
   "outputs": [],
   "source": [
    "# # Turn labels into numbers and apply One-Hot Encoding\n",
    "# encoder = LabelBinarizer()\n",
    "# encoder.fit(y_train)\n",
    "# y_train = encoder.transform(y_train)\n",
    "# y_valid = encoder.transform(y_valid)\n",
    "# y_test = encoder.transform(y_test)\n",
    "# # print(y_train.dtype, y_train.shape)\n",
    "# # print(y_train[0])\n",
    "\n",
    "# # Change to float32, so it can be multiplied against the features in TensorFlow, which are float32\n",
    "# y_train = y_train.astype(np.float32)\n",
    "# y_valid = y_valid.astype(np.float32)\n",
    "# y_test = y_test.astype(np.float32)\n",
    "\n",
    "# print(y_train.shape)\n",
    "# print(y_train[0])\n",
    "# print('Labels One-Hot Encoded')"
   ]
  },
  {
   "cell_type": "code",
   "execution_count": 8,
   "metadata": {},
   "outputs": [
    {
     "name": "stdout",
     "output_type": "stream",
     "text": [
      "Saving data to pickle file...\n",
      "Data cached in pickle file.\n"
     ]
    }
   ],
   "source": [
    "# Save the data for easy access\n",
    "pickle_file = './pre-traffic-signs-data/pre-data.pickle'\n",
    "if not os.path.isfile(pickle_file):\n",
    "    print('Saving data to pickle file...')\n",
    "    try:\n",
    "        with open(pickle_file, 'wb') as pfile:\n",
    "            pickle.dump(\n",
    "                {\n",
    "                    'train_features': X_train,\n",
    "                    'train_labels': y_train,\n",
    "                    'valid_features': X_valid,\n",
    "                    'valid_labels': y_valid,\n",
    "                    'test_features': X_test,\n",
    "                    'test_labels': y_test,\n",
    "                    'signnames': signnames,\n",
    "                },\n",
    "                pfile, protocol=2)\n",
    "    except Exception as e:\n",
    "        print('Unable to save data to', pickle_file, ':', e)\n",
    "        raise\n",
    "\n",
    "print('Data cached in pickle file.')"
   ]
  },
  {
   "cell_type": "markdown",
   "metadata": {},
   "source": [
    "## Checkpoint\n",
    "All the preprocessed data saved to the pickle file.  If you need to leave and comeback to this lab, just run the code block below and it will load all the data and modules required to proceed."
   ]
  },
  {
   "cell_type": "code",
   "execution_count": 2,
   "metadata": {},
   "outputs": [
    {
     "name": "stdout",
     "output_type": "stream",
     "text": [
      "Data and modules loaded.\n",
      "(34799, 32, 32, 3)\n",
      "[[ 1.          0.99607843  0.68235296]\n",
      " [ 0.99607843  0.99215686  0.6901961 ]\n",
      " [ 1.          0.99215686  0.6901961 ]\n",
      " [ 0.99607843  0.99215686  0.68627453]\n",
      " [ 1.          0.99607843  0.68235296]\n",
      " [ 1.          0.99607843  0.67843139]\n",
      " [ 1.          1.          0.68627453]\n",
      " [ 1.          1.          0.71372551]\n",
      " [ 1.          1.          0.73333335]\n",
      " [ 1.          1.          0.71372551]\n",
      " [ 1.          1.          0.69411767]\n",
      " [ 1.          1.          0.69411767]\n",
      " [ 1.          1.          0.6901961 ]\n",
      " [ 1.          1.          0.7019608 ]\n",
      " [ 1.          1.          0.71372551]\n",
      " [ 1.          0.98431373  0.7019608 ]\n",
      " [ 0.99215686  0.96078432  0.67450982]\n",
      " [ 0.98823529  0.94509804  0.67058825]\n",
      " [ 1.          0.94509804  0.7019608 ]\n",
      " [ 0.99607843  0.94509804  0.72549021]\n",
      " [ 1.          0.94901961  0.71764708]\n",
      " [ 1.          0.95686275  0.70588237]\n",
      " [ 1.          0.94901961  0.72156864]\n",
      " [ 0.99215686  0.94117647  0.72941178]\n",
      " [ 0.99607843  0.95294118  0.75686276]\n",
      " [ 0.99607843  0.96470588  0.78039217]\n",
      " [ 0.96470588  0.95294118  0.77254903]\n",
      " [ 0.92156863  0.92156863  0.74117649]\n",
      " [ 0.90980393  0.90588236  0.72156864]\n",
      " [ 0.9254902   0.92156863  0.72549021]\n",
      " [ 0.92941177  0.92941177  0.72941178]\n",
      " [ 0.90588236  0.9137255   0.72549021]]\n",
      "(34799,)\n",
      "(<type 'numpy.ndarray'>, dtype('uint8'))\n"
     ]
    }
   ],
   "source": [
    "%matplotlib inline\n",
    "\n",
    "# Load the modules\n",
    "import pickle\n",
    "import math\n",
    "\n",
    "import numpy as np\n",
    "import tensorflow as tf\n",
    "# from tqdm import tqdm\n",
    "import matplotlib.pyplot as plt\n",
    "from sklearn.utils import shuffle\n",
    "\n",
    "# Reload the data\n",
    "pickle_file = './pre-traffic-signs-data/pre-data.pickle'\n",
    "with open(pickle_file, 'rb') as f:\n",
    "    pickle_data = pickle.load(f)\n",
    "    X_train = pickle_data['train_features']\n",
    "    y_train = pickle_data['train_labels']\n",
    "    X_valid = pickle_data['valid_features']\n",
    "    y_valid = pickle_data['valid_labels']\n",
    "    X_test = pickle_data['test_features']\n",
    "    y_test = pickle_data['test_labels']\n",
    "    signnames = pickle_data['signnames']\n",
    "    del pickle_data  # Free up memory\n",
    "    \n",
    "X_train, y_train = shuffle(X_train, y_train)\n",
    "X_valid, y_valid = shuffle(X_valid, y_valid)\n",
    "X_test, y_test = shuffle(X_test, y_test)\n",
    "\n",
    "print('Data and modules loaded.')\n",
    "print(X_train.shape)\n",
    "print(X_train[0][0])\n",
    "print(y_train.shape)\n",
    "print(type(y_train), y_train.dtype)"
   ]
  },
  {
   "cell_type": "markdown",
   "metadata": {},
   "source": [
    "### Provide a Basic Summary of the Data Set Using Python, Numpy and/or Pandas"
   ]
  },
  {
   "cell_type": "code",
   "execution_count": 3,
   "metadata": {},
   "outputs": [
    {
     "name": "stdout",
     "output_type": "stream",
     "text": [
      "('Number of training examples =', 34799)\n",
      "('Number of validation examples =', 4410)\n",
      "('Number of testing examples =', 12630)\n",
      "('Image data shape =', (32, 32))\n",
      "('Number of classes =', 43)\n"
     ]
    }
   ],
   "source": [
    "n_train = X_train.shape[0]\n",
    "n_validation = X_valid.shape[0]\n",
    "n_test = X_test.shape[0]\n",
    "image_shape = (X_train.shape[1], X_train.shape[2])\n",
    "n_classes = len(signnames)\n",
    "\n",
    "print(\"Number of training examples =\", n_train)\n",
    "print(\"Number of validation examples =\", n_validation)\n",
    "print(\"Number of testing examples =\", n_test)\n",
    "print(\"Image data shape =\", image_shape)\n",
    "print(\"Number of classes =\", n_classes)"
   ]
  },
  {
   "cell_type": "markdown",
   "metadata": {},
   "source": [
    "----\n",
    "\n",
    "## Step 3: Design and Test a Model Architecture\n",
    "\n",
    "Design and implement a deep learning model that learns to recognize traffic signs. Train and test your model on the [German Traffic Sign Dataset](http://benchmark.ini.rub.de/?section=gtsrb&subsection=dataset).\n",
    "\n",
    "The LeNet-5 implementation shown in the [classroom](https://classroom.udacity.com/nanodegrees/nd013/parts/fbf77062-5703-404e-b60c-95b78b2f3f9e/modules/6df7ae49-c61c-4bb2-a23e-6527e69209ec/lessons/601ae704-1035-4287-8b11-e2c2716217ad/concepts/d4aca031-508f-4e0b-b493-e7b706120f81) at the end of the CNN lesson is a solid starting point. You'll have to change the number of classes and possibly the preprocessing, but aside from that it's plug and play! \n",
    "\n",
    "With the LeNet-5 solution from the lecture, you should expect a validation set accuracy of about 0.89. To meet specifications, the validation set accuracy will need to be at least 0.93. It is possible to get an even higher accuracy, but **0.93 is the minimum for a successful project submission**. \n",
    "\n",
    "There are various aspects to consider when thinking about this problem:\n",
    "\n",
    "- Neural network architecture (is the network over or underfitting?)\n",
    "- Play around preprocessing techniques (normalization, rgb to grayscale, etc)\n",
    "- Number of examples per label (some have more than others).\n",
    "- Generate fake data.\n",
    "\n",
    "Here is an example of a [published baseline model on this problem](http://yann.lecun.com/exdb/publis/pdf/sermanet-ijcnn-11.pdf). It's not required to be familiar with the approach used in the paper but, it's good practice to try to read papers like these."
   ]
  },
  {
   "cell_type": "markdown",
   "metadata": {},
   "source": [
    "### Model Architecture"
   ]
  },
  {
   "cell_type": "code",
   "execution_count": 63,
   "metadata": {
    "collapsed": true
   },
   "outputs": [],
   "source": [
    "from tensorflow.contrib.layers import flatten\n",
    "\n",
    "def LeNet(x):    \n",
    "    # Arguments used for tf.truncated_normal, randomly defines variables for the weights and biases for each layer\n",
    "    mu = 0\n",
    "    sigma = 0.1\n",
    "    \n",
    "    # Layer 1: Convolutional. Input = 32x32x3. Output = 28x28x9.\n",
    "    conv1_w = tf.Variable(tf.truncated_normal((5, 5, 3, 9), mu, sigma))\n",
    "    \n",
    "    conv1_b = tf.Variable(tf.zeros(9))\n",
    "    conv1 = tf.nn.conv2d(x, conv1_w, [1, 1, 1, 1], 'VALID') + conv1_b\n",
    "    # Activation.\n",
    "    conv1 = tf.nn.relu(conv1)\n",
    "    # Pooling. Input = 28x28x9. Output = 14x14x9.\n",
    "    pool1 = tf.nn.max_pool(conv1, [1, 2, 2, 1], [1, 2, 2, 1], 'VALID')\n",
    "       \n",
    "    # Layer 2: Convolutional. Input = 14x14x9. Output = 10x10x32.\n",
    "    conv2_w = tf.Variable(tf.truncated_normal((5, 5, 9, 32), mu, sigma))\n",
    "    conv2_b = tf.Variable(tf.zeros(32))\n",
    "    conv2 = tf.nn.conv2d(pool1, conv2_w, [1, 1, 1, 1], 'VALID') + conv2_b\n",
    "    # Activation.\n",
    "    conv2 = tf.nn.relu(conv2)\n",
    "    # Pooling. Input = 10x10x32. Output = 5x5x32.\n",
    "    pool2 = tf.nn.max_pool(conv2, [1, 2, 2, 1], [1, 2, 2, 1], 'VALID')\n",
    "    \n",
    "#     outputFeatureMap(pool1, conv2, activation_min=-1, activation_max=1 ,plt_num=1)\n",
    "      \n",
    "    # Flatten. Input = 5x5*32. Output = 800.\n",
    "    flat = flatten(pool2)   \n",
    "    \n",
    "    # Layer 3: Fully Connected. Input = 800. Output = 480.\n",
    "    full1_w = tf.Variable(tf.truncated_normal((800, 480), mu, sigma))\n",
    "    full1_b = tf.Variable(tf.zeros(480))\n",
    "    full1 = tf.matmul(flat, full1_w) + full1_b\n",
    "    # Activation.\n",
    "    full1 = tf.nn.relu(full1) \n",
    "    \n",
    "    # Layer 4: Fully Connected. Input = 480. Output = 240.\n",
    "    full2_w = tf.Variable(tf.truncated_normal((480, 240), mu, sigma))\n",
    "    full2_b = tf.Variable(tf.zeros(240))\n",
    "    full2 = tf.matmul(full1, full2_w) + full2_b\n",
    "    # Activation.\n",
    "    full2 = tf.nn.relu(full2)    \n",
    "    \n",
    "    # Layer 5: Fully Connected. Input = 240. Output = 120.\n",
    "    full3_w = tf.Variable(tf.truncated_normal((240, 120), mu, sigma))\n",
    "    full3_b = tf.Variable(tf.zeros(120))\n",
    "    full3 = tf.matmul(full2, full3_w) + full3_b\n",
    "    # Activation.\n",
    "    full3 = tf.nn.relu(full3)  \n",
    "\n",
    "    # Layer 6: Fully Connected. Input = 120. Output = 43.\n",
    "    full4_w = tf.Variable(tf.truncated_normal((120, 43), mu, sigma))\n",
    "    full4_b = tf.Variable(tf.zeros(43))\n",
    "    logits = tf.matmul(full3, full4_w) + full4_b\n",
    "     \n",
    "#     print(x)\n",
    "#     print(\"conv1_w\", conv1_w)\n",
    "#     print(pool1)\n",
    "#     print(pool2)\n",
    "    print(conv2)\n",
    "#     print(\"flat\", flat)\n",
    "#     print(full1)\n",
    "#     print(full2)\n",
    "#     print(full3)\n",
    "#     print(logits)\n",
    "    \n",
    "    return logits"
   ]
  },
  {
   "cell_type": "markdown",
   "metadata": {},
   "source": [
    "### Training pipeline"
   ]
  },
  {
   "cell_type": "code",
   "execution_count": 5,
   "metadata": {},
   "outputs": [
    {
     "name": "stdout",
     "output_type": "stream",
     "text": [
      "('x: ', <tf.Tensor 'Placeholder:0' shape=(?, 32, 32, 3) dtype=float32>)\n",
      "('y: ', <tf.Tensor 'Placeholder_1:0' shape=<unknown> dtype=int32>)\n",
      "('ont_hot_y: ', <tf.Tensor 'one_hot:0' shape=<unknown> dtype=float32>)\n"
     ]
    }
   ],
   "source": [
    "x = tf.placeholder(tf.float32, (None, 32, 32, 3))\n",
    "y = tf.placeholder(tf.int32, (None))\n",
    "print(\"x: \", x)\n",
    "print(\"y: \", y)\n",
    "\n",
    "one_hot_y = tf.one_hot(y, 43)\n",
    "print(\"ont_hot_y: \", one_hot_y)"
   ]
  },
  {
   "cell_type": "code",
   "execution_count": 3,
   "metadata": {},
   "outputs": [
    {
     "ename": "NameError",
     "evalue": "name 'LeNet' is not defined",
     "output_type": "error",
     "traceback": [
      "\u001b[0;31m---------------------------------------------------------------------------\u001b[0m",
      "\u001b[0;31mNameError\u001b[0m                                 Traceback (most recent call last)",
      "\u001b[0;32m<ipython-input-3-d7ffbf8cfe3a>\u001b[0m in \u001b[0;36m<module>\u001b[0;34m()\u001b[0m\n\u001b[1;32m      3\u001b[0m \u001b[0mBATCH_SIZE\u001b[0m \u001b[0;34m=\u001b[0m \u001b[0;36m128\u001b[0m\u001b[0;34m\u001b[0m\u001b[0m\n\u001b[1;32m      4\u001b[0m \u001b[0;34m\u001b[0m\u001b[0m\n\u001b[0;32m----> 5\u001b[0;31m \u001b[0mlogits\u001b[0m \u001b[0;34m=\u001b[0m \u001b[0mLeNet\u001b[0m\u001b[0;34m(\u001b[0m\u001b[0mx\u001b[0m\u001b[0;34m)\u001b[0m\u001b[0;34m\u001b[0m\u001b[0m\n\u001b[0m\u001b[1;32m      6\u001b[0m \u001b[0mprint\u001b[0m\u001b[0;34m(\u001b[0m\u001b[0;34m)\u001b[0m\u001b[0;34m\u001b[0m\u001b[0m\n\u001b[1;32m      7\u001b[0m \u001b[0mprint\u001b[0m\u001b[0;34m(\u001b[0m\u001b[0;34m\"logits: \"\u001b[0m\u001b[0;34m,\u001b[0m\u001b[0mlogits\u001b[0m\u001b[0;34m)\u001b[0m\u001b[0;34m\u001b[0m\u001b[0m\n",
      "\u001b[0;31mNameError\u001b[0m: name 'LeNet' is not defined"
     ]
    }
   ],
   "source": [
    "LEARNING_RATE = 0.0006\n",
    "EPOCHS = 35\n",
    "BATCH_SIZE = 128\n",
    "\n",
    "logits = LeNet(x)\n",
    "print()\n",
    "print(\"logits: \",logits)\n",
    "cross_entropy = tf.nn.softmax_cross_entropy_with_logits(labels=one_hot_y, logits=logits)\n",
    "print(\"cross_entropy: \", cross_entropy)\n",
    "loss_operation = tf.reduce_mean(cross_entropy)\n",
    "optimizer = tf.train.AdamOptimizer(learning_rate = LEARNING_RATE)\n",
    "training_operation = optimizer.minimize(loss_operation)"
   ]
  },
  {
   "cell_type": "markdown",
   "metadata": {},
   "source": [
    "### Model evaluation"
   ]
  },
  {
   "cell_type": "code",
   "execution_count": 20,
   "metadata": {
    "collapsed": true
   },
   "outputs": [],
   "source": [
    "correct_prediction = tf.equal(tf.argmax(logits, 1), tf.argmax(one_hot_y, 1))\n",
    "accuracy_operation = tf.reduce_mean(tf.cast(correct_prediction, tf.float32))\n",
    "\n",
    "def evaluate(X_data, y_data):\n",
    "    num_examples = len(X_data)\n",
    "    total_accuracy = 0\n",
    "    sess = tf.get_default_session()\n",
    "    for offset in range(0, num_examples, BATCH_SIZE):\n",
    "        batch_x, batch_y = X_data[offset:offset + BATCH_SIZE], y_data[offset:offset + BATCH_SIZE]\n",
    "        accuracy = sess.run(accuracy_operation, feed_dict={x: batch_x, y: batch_y})\n",
    "#         pros = sess.run(logits, feed_dict={x: batch_x})\n",
    "        total_accuracy += (accuracy * len(batch_x))\n",
    "    return total_accuracy / num_examples"
   ]
  },
  {
   "cell_type": "markdown",
   "metadata": {},
   "source": [
    "### Train and Validate the Model"
   ]
  },
  {
   "cell_type": "markdown",
   "metadata": {},
   "source": [
    "A validation set can be used to assess how well the model is performing. A low accuracy on the training and validation\n",
    "sets imply underfitting. A high accuracy on the training set but low accuracy on the validation set implies overfitting.  \n",
    "Calculate and report the accuracy on the training and validation set."
   ]
  },
  {
   "cell_type": "code",
   "execution_count": 62,
   "metadata": {},
   "outputs": [
    {
     "name": "stdout",
     "output_type": "stream",
     "text": [
      "Training...\n",
      "()\n",
      "EPOCH 1 ...\n",
      "Validation Accuracy = 0.799\n",
      "()\n",
      "EPOCH 2 ...\n",
      "Validation Accuracy = 0.843\n",
      "()\n",
      "EPOCH 3 ...\n",
      "Validation Accuracy = 0.865\n",
      "()\n",
      "EPOCH 4 ...\n",
      "Validation Accuracy = 0.883\n",
      "()\n",
      "EPOCH 5 ...\n",
      "Validation Accuracy = 0.883\n",
      "()\n",
      "EPOCH 6 ...\n",
      "Validation Accuracy = 0.880\n",
      "()\n",
      "EPOCH 7 ...\n",
      "Validation Accuracy = 0.872\n",
      "()\n",
      "EPOCH 8 ...\n",
      "Validation Accuracy = 0.909\n",
      "()\n",
      "EPOCH 9 ...\n",
      "Validation Accuracy = 0.898\n",
      "()\n",
      "EPOCH 10 ...\n",
      "Validation Accuracy = 0.911\n",
      "()\n",
      "EPOCH 11 ...\n",
      "Validation Accuracy = 0.893\n",
      "()\n",
      "EPOCH 12 ...\n",
      "Validation Accuracy = 0.913\n",
      "()\n",
      "EPOCH 13 ...\n",
      "Validation Accuracy = 0.903\n",
      "()\n",
      "EPOCH 14 ...\n",
      "Validation Accuracy = 0.905\n",
      "()\n",
      "EPOCH 15 ...\n",
      "Validation Accuracy = 0.915\n",
      "()\n",
      "EPOCH 16 ...\n",
      "Validation Accuracy = 0.914\n",
      "()\n",
      "EPOCH 17 ...\n",
      "Validation Accuracy = 0.931\n",
      "()\n",
      "EPOCH 18 ...\n",
      "Validation Accuracy = 0.912\n",
      "()\n",
      "EPOCH 19 ...\n",
      "Validation Accuracy = 0.918\n",
      "()\n",
      "EPOCH 20 ...\n",
      "Validation Accuracy = 0.932\n",
      "()\n",
      "EPOCH 21 ...\n",
      "Validation Accuracy = 0.918\n",
      "()\n",
      "EPOCH 22 ...\n",
      "Validation Accuracy = 0.913\n",
      "()\n",
      "EPOCH 23 ...\n",
      "Validation Accuracy = 0.917\n",
      "()\n",
      "EPOCH 24 ...\n",
      "Validation Accuracy = 0.912\n",
      "()\n",
      "EPOCH 25 ...\n",
      "Validation Accuracy = 0.922\n",
      "()\n",
      "EPOCH 26 ...\n",
      "Validation Accuracy = 0.923\n",
      "()\n",
      "EPOCH 27 ...\n",
      "Validation Accuracy = 0.939\n",
      "()\n",
      "EPOCH 28 ...\n",
      "Validation Accuracy = 0.937\n",
      "()\n",
      "EPOCH 29 ...\n",
      "Validation Accuracy = 0.938\n",
      "()\n",
      "EPOCH 30 ...\n",
      "Validation Accuracy = 0.938\n",
      "()\n",
      "EPOCH 31 ...\n",
      "Validation Accuracy = 0.938\n",
      "()\n",
      "EPOCH 32 ...\n",
      "Validation Accuracy = 0.938\n",
      "()\n",
      "EPOCH 33 ...\n",
      "Validation Accuracy = 0.938\n",
      "()\n",
      "EPOCH 34 ...\n",
      "Validation Accuracy = 0.938\n",
      "()\n",
      "EPOCH 35 ...\n",
      "Validation Accuracy = 0.939\n",
      "()\n",
      "Model saved\n",
      "CPU times: user 2min 3s, sys: 17.1 s, total: 2min 20s\n",
      "Wall time: 2min 42s\n"
     ]
    }
   ],
   "source": [
    "%%time\n",
    "# GPU(750ti): 38s\n",
    "# CPU: 3m49s\n",
    "saver = tf.train.Saver()\n",
    "with tf.Session() as sess:\n",
    "    sess.run(tf.global_variables_initializer())\n",
    "    num_examples = len(X_train)\n",
    "    \n",
    "    print(\"Training...\")\n",
    "    print()\n",
    "    for i in range(EPOCHS):\n",
    "        X_train, y_train = shuffle(X_train, y_train)\n",
    "        print(\"EPOCH {} ...\".format(i+1))\n",
    "        for offset in range(0, num_examples, BATCH_SIZE):\n",
    "            end = offset + BATCH_SIZE\n",
    "            batch_x, batch_y = X_train[offset:end], y_train[offset:end]\n",
    "            sess.run(training_operation, feed_dict={x: batch_x, y: batch_y})\n",
    "            \n",
    "        validation_accuracy = evaluate(X_valid, y_valid)        \n",
    "        print(\"Validation Accuracy = {:.3f}\".format(validation_accuracy))\n",
    "        print()\n",
    "        \n",
    "    saver.save(sess, './model/lenet.ckpt')\n",
    "    print(\"Model saved\")"
   ]
  },
  {
   "cell_type": "markdown",
   "metadata": {},
   "source": [
    "### Test the model\n",
    "Calculate and reporte the accuracy on the test set."
   ]
  },
  {
   "cell_type": "code",
   "execution_count": 52,
   "metadata": {
    "scrolled": true
   },
   "outputs": [
    {
     "name": "stdout",
     "output_type": "stream",
     "text": [
      "INFO:tensorflow:Restoring parameters from ./model/lenet.ckpt\n",
      "Test Accuracy = 0.931\n"
     ]
    }
   ],
   "source": [
    "with tf.Session() as sess:\n",
    "    saver.restore(sess, './model/lenet.ckpt')\n",
    "    test_accuracy = evaluate(X_test, y_test)\n",
    "    print(\"Test Accuracy = {:.3f}\".format(test_accuracy))\n",
    "#     pros = sess.run(logits, feed_dict={x: X_test})\n",
    "#     print(pros.shape)\n",
    "#     print(pros[0])"
   ]
  },
  {
   "cell_type": "markdown",
   "metadata": {},
   "source": [
    "---\n",
    "\n",
    "## Step 4: Test a Model on New Images\n",
    "\n",
    "To give yourself more insight into how your model is working, download at least five pictures of German traffic signs from the web and use your model to predict the traffic sign type.\n",
    "\n",
    "You may find `signnames.csv` useful as it contains mappings from the class id (integer) to the actual sign name."
   ]
  },
  {
   "cell_type": "markdown",
   "metadata": {},
   "source": [
    "### Load and Output the Images"
   ]
  },
  {
   "cell_type": "code",
   "execution_count": 43,
   "metadata": {},
   "outputs": [
    {
     "name": "stdout",
     "output_type": "stream",
     "text": [
      "uint8\n",
      "(dtype('float32'), (10, 32, 32, 3))\n"
     ]
    },
    {
     "data": {
      "image/png": "[encoded data removed]",
      "text/plain": [
       "<matplotlib.figure.Figure at 0x7fd98ca183d0>"
      ]
     },
     "metadata": {},
     "output_type": "display_data"
    }
   ],
   "source": [
    "import csv\n",
    "\n",
    "gt_images = []\n",
    "gt_labels = []\n",
    "\n",
    "with open('./test_images/labels.csv') as f:\n",
    "    gt_labels = [row[7] for row in csv.reader(f)]\n",
    "# print(gt_labels)\n",
    "\n",
    "for i in range(1, 11):\n",
    "    gt_images.append(plt.imread('./test_images/' + str(i) +'.ppm'))\n",
    "# print(gt_images)\n",
    "\n",
    "for i in range(len(gt_images)):\n",
    "    plt.subplot(2, 5, i + 1), plt.imshow(gt_images[i]), plt.title(gt_labels[i])\n",
    "    plt.xticks([]), plt.yticks([])\n",
    "    \n",
    "gt_images = np.array(gt_images)\n",
    "gt_labels = np.array(gt_labels)\n",
    "    \n",
    "# Normalization\n",
    "print(gt_images.dtype)\n",
    "gt_images = gt_images.astype(np.float32) / 255.\n",
    "print(gt_images.dtype, gt_images.shape)\n",
    "# print(gt_images[0])"
   ]
  },
  {
   "cell_type": "markdown",
   "metadata": {},
   "source": [
    "### Predict the Sign Type for Each Image"
   ]
  },
  {
   "cell_type": "code",
   "execution_count": 53,
   "metadata": {},
   "outputs": [
    {
     "name": "stdout",
     "output_type": "stream",
     "text": [
      "INFO:tensorflow:Restoring parameters from ./model/lenet.ckpt\n",
      "Test Accuracy = 1.000\n",
      "Predict the Sign Type for Each Image\n",
      "[ 0  1  3  5  8 23 26 30 32 42]\n"
     ]
    }
   ],
   "source": [
    "# # Remove the previous weights and bias\n",
    "# tf.reset_default_graph()\n",
    "\n",
    "# mu = 0\n",
    "# sigma = 0.1\n",
    "\n",
    "# # Load the trained model.\n",
    "\n",
    "# # Layer 1: Convolutional. Input = 32x32x3. Output = 28x28x9.\n",
    "# conv1_w = tf.Variable(tf.truncated_normal((5, 5, 3, 9), mu, sigma))\n",
    "# conv1_b = tf.Variable(tf.zeros(9))\n",
    "\n",
    "# # Layer 2: Convolutional. Input = 14x14x9. Output = 10x10x32.\n",
    "# conv2_w = tf.Variable(tf.truncated_normal((5, 5, 9, 32), mu, sigma))\n",
    "# conv2_b = tf.Variable(tf.zeros(32))\n",
    "\n",
    "# # Layer 3: Fully Connected. Input = 800. Output = 480.\n",
    "# full1_w = tf.Variable(tf.truncated_normal((800, 480), mu, sigma))\n",
    "# full1_b = tf.Variable(tf.zeros(480))\n",
    "\n",
    "# # Layer 4: Fully Connected. Input = 480. Output = 240.\n",
    "# full2_w = tf.Variable(tf.truncated_normal((480, 240), mu, sigma))\n",
    "# full2_b = tf.Variable(tf.zeros(240))\n",
    "\n",
    "# # Layer 5: Fully Connected. Input = 240. Output = 120.\n",
    "# full3_w = tf.Variable(tf.truncated_normal((240, 120), mu, sigma))\n",
    "# full3_b = tf.Variable(tf.zeros(120))\n",
    "\n",
    "# # Layer 6: Fully Connected. Input = 120. Output = 43.\n",
    "# full4_w = tf.Variable(tf.truncated_normal((120, 43), mu, sigma))\n",
    "# full4_b = tf.Variable(tf.zeros(43))\n",
    "\n",
    "# saver = tf.train.Saver()\n",
    "\n",
    "with tf.Session() as sess:\n",
    "    saver.restore(sess, './model/lenet.ckpt')\n",
    "    test_accuracy = evaluate(gt_images, gt_labels)\n",
    "    print(\"Test Accuracy = {:.3f}\".format(test_accuracy))   \n",
    "    probabilities = sess.run(logits, feed_dict={x: gt_images})\n",
    "\n",
    "predict = probabilities.argmax(axis=1)\n",
    "print(\"Predict the Sign Type for Each Image\")\n",
    "print(predict)"
   ]
  },
  {
   "cell_type": "markdown",
   "metadata": {},
   "source": [
    "### Output Top 5 Softmax Probabilities For Each Image Found on the Web"
   ]
  },
  {
   "cell_type": "markdown",
   "metadata": {},
   "source": [
    "For each of the new images, print out the model's softmax probabilities to show the **certainty** of the model's predictions (limit the output to the top 5 probabilities for each image). [`tf.nn.top_k`](https://www.tensorflow.org/versions/r0.12/api_docs/python/nn.html#top_k) could prove helpful here. \n",
    "\n",
    "The example below demonstrates how tf.nn.top_k can be used to find the top k predictions for each image.\n",
    "\n",
    "`tf.nn.top_k` will return the values and indices (class ids) of the top k predictions. So if k=3, for each sign, it'll return the 3 largest probabilities (out of a possible 43) and the correspoding class ids.\n",
    "\n",
    "Take this numpy array as an example. The values in the array represent predictions. The array contains softmax probabilities for five candidate images with six possible classes. `tf.nn.top_k` is used to choose the three classes with the highest probability:\n",
    "\n",
    "```\n",
    "# (5, 6) array\n",
    "a = np.array([[ 0.24879643,  0.07032244,  0.12641572,  0.34763842,  0.07893497,\n",
    "         0.12789202],\n",
    "       [ 0.28086119,  0.27569815,  0.08594638,  0.0178669 ,  0.18063401,\n",
    "         0.15899337],\n",
    "       [ 0.26076848,  0.23664738,  0.08020603,  0.07001922,  0.1134371 ,\n",
    "         0.23892179],\n",
    "       [ 0.11943333,  0.29198961,  0.02605103,  0.26234032,  0.1351348 ,\n",
    "         0.16505091],\n",
    "       [ 0.09561176,  0.34396535,  0.0643941 ,  0.16240774,  0.24206137,\n",
    "         0.09155967]])\n",
    "```\n",
    "\n",
    "Running it through `sess.run(tf.nn.top_k(tf.constant(a), k=3))` produces:\n",
    "\n",
    "```\n",
    "TopKV2(values=array([[ 0.34763842,  0.24879643,  0.12789202],\n",
    "       [ 0.28086119,  0.27569815,  0.18063401],\n",
    "       [ 0.26076848,  0.23892179,  0.23664738],\n",
    "       [ 0.29198961,  0.26234032,  0.16505091],\n",
    "       [ 0.34396535,  0.24206137,  0.16240774]]), indices=array([[3, 0, 5],\n",
    "       [0, 1, 4],\n",
    "       [0, 5, 1],\n",
    "       [1, 3, 5],\n",
    "       [1, 4, 3]], dtype=int32))\n",
    "```\n",
    "\n",
    "Looking just at the first row we get `[ 0.34763842,  0.24879643,  0.12789202]`, you can confirm these are the 3 largest probabilities in `a`. You'll also notice `[3, 0, 5]` are the corresponding indices."
   ]
  },
  {
   "cell_type": "code",
   "execution_count": 54,
   "metadata": {},
   "outputs": [
    {
     "name": "stdout",
     "output_type": "stream",
     "text": [
      "[[ 73.40895844  56.10429001  34.21059799]\n",
      " [ 33.57488632  21.31044769  13.48448849]\n",
      " [ 82.77412415  31.20757294  28.8132515 ]\n",
      " [ 42.94475937  18.04182053  16.46314049]\n",
      " [ 48.04898834  27.47393799  14.68537617]\n",
      " [ 60.33102417  26.49393845  25.07674217]\n",
      " [ 34.17148209  22.67533875  13.67414665]\n",
      " [ 46.07467651  30.29659462  19.44874954]\n",
      " [ 64.41319275  36.93223953  35.97200012]\n",
      " [ 35.76657486  24.20430756  21.37825966]]\n",
      "[[ 0  1  4]\n",
      " [ 1  0  2]\n",
      " [ 3  2  5]\n",
      " [ 5  6  1]\n",
      " [ 8  7  4]\n",
      " [23 10 19]\n",
      " [26  4 29]\n",
      " [30 23 24]\n",
      " [32  6 41]\n",
      " [42  6 41]]\n"
     ]
    }
   ],
   "source": [
    "### Print out the top five softmax probabilities for the predictions on the German traffic sign images found on the web. \n",
    "with tf.Session() as sess:\n",
    "    top_3 = sess.run(tf.nn.top_k(tf.constant(probabilities), k=3))\n",
    "    print(top_3.values)\n",
    "    print(top_3.indices)"
   ]
  },
  {
   "cell_type": "markdown",
   "metadata": {},
   "source": [
    "### Project Writeup\n",
    "\n",
    "Once you have completed the code implementation, document your results in a project writeup using this [template](https://github.com/udacity/CarND-Traffic-Sign-Classifier-Project/blob/master/writeup_template.md) as a guide. The writeup can be in a markdown or pdf file. "
   ]
  },
  {
   "cell_type": "markdown",
   "metadata": {},
   "source": [
    "> **Note**: Once you have completed all of the code implementations and successfully answered each question above, you may finalize your work by exporting the iPython Notebook as an HTML document. You can do this by using the menu above and navigating to  \\n\",\n",
    "    \"**File -> Download as -> HTML (.html)**. Include the finished document along with this notebook as your submission."
   ]
  },
  {
   "cell_type": "markdown",
   "metadata": {},
   "source": [
    "---\n",
    "\n",
    "## Step 5 (Optional): Visualize the Neural Network's State with Test Images\n",
    "\n",
    " This Section is not required to complete but acts as an additional excersise for understaning the output of a neural network's weights. While neural networks can be a great learning device they are often referred to as a black box. We can understand what the weights of a neural network look like better by plotting their feature maps. After successfully training your neural network you can see what it's feature maps look like by plotting the output of the network's weight layers in response to a test stimuli image. From these plotted feature maps, it's possible to see what characteristics of an image the network finds interesting. For a sign, maybe the inner network feature maps react with high activation to the sign's boundary outline or to the contrast in the sign's painted symbol.\n",
    "\n",
    " Provided for you below is the function code that allows you to get the visualization output of any tensorflow weight layer you want. The inputs to the function should be a stimuli image, one used during training or a new one you provided, and then the tensorflow variable name that represents the layer's state during the training process, for instance if you wanted to see what the [LeNet lab's](https://classroom.udacity.com/nanodegrees/nd013/parts/fbf77062-5703-404e-b60c-95b78b2f3f9e/modules/6df7ae49-c61c-4bb2-a23e-6527e69209ec/lessons/601ae704-1035-4287-8b11-e2c2716217ad/concepts/d4aca031-508f-4e0b-b493-e7b706120f81) feature maps looked like for it's second convolutional layer you could enter conv2 as the tf_activation variable.\n",
    "\n",
    "For an example of what feature map outputs look like, check out NVIDIA's results in their paper [End-to-End Deep Learning for Self-Driving Cars](https://devblogs.nvidia.com/parallelforall/deep-learning-self-driving-cars/) in the section Visualization of internal CNN State. NVIDIA was able to show that their network's inner weights had high activations to road boundary lines by comparing feature maps from an image with a clear path to one without. Try experimenting with a similar test to show that your trained network's weights are looking for interesting features, whether it's looking at differences in feature maps from images with or without a sign, or even what feature maps look like in a trained network vs a completely untrained one on the same sign image.\n",
    "\n",
    "<figure>\n",
    " <img src=\"visualize_cnn.png\" width=\"380\" alt=\"Combined Image\" />\n",
    " <figcaption>\n",
    " <p></p> \n",
    " <p style=\"text-align: center;\"> Your output should look something like this (above)</p> \n",
    " </figcaption>\n",
    "</figure>\n",
    " <p></p> \n"
   ]
  },
  {
   "cell_type": "code",
   "execution_count": 59,
   "metadata": {
    "collapsed": true
   },
   "outputs": [],
   "source": [
    "### Visualize your network's feature maps here.\n",
    "### Feel free to use as many code cells as needed.\n",
    "\n",
    "# image_input: the test image being fed into the network to produce the feature maps\n",
    "# tf_activation: should be a tf variable name used during your training procedure that represents the calculated state of a specific weight layer\n",
    "# activation_min/max: can be used to view the activation contrast in more detail, by default matplot sets min and max to the actual min and max values of the output\n",
    "# plt_num: used to plot out multiple different weight feature map sets on the same block, just extend the plt number for each new feature map entry\n",
    "\n",
    "def outputFeatureMap(image_input, tf_activation, activation_min=-1, activation_max=-1 ,plt_num=1):\n",
    "    # Here make sure to preprocess your image_input in a way your network expects\n",
    "    # with size, normalization, ect if needed\n",
    "    # image_input =\n",
    "    # Note: x should be the same name as your network's tensorflow data placeholder variable\n",
    "    # If you get an error tf_activation is not defined it may be having trouble accessing the variable from inside a function\n",
    "    activation = tf_activation.eval(session=sess,feed_dict={x : image_input})\n",
    "    featuremaps = activation.shape[0]\n",
    "    plt.figure(plt_num, figsize=(15,15))\n",
    "    for featuremap in range(featuremaps):\n",
    "        plt.subplot(6,8, featuremap+1) # sets the number of feature maps to show on each row and column\n",
    "        plt.title('FeatureMap ' + str(featuremap)) # displays the feature map number\n",
    "        if activation_min != -1 & activation_max != -1:\n",
    "            plt.imshow(activation[0,:,:, featuremap], interpolation=\"nearest\", vmin =activation_min, vmax=activation_max, cmap=\"gray\")\n",
    "        elif activation_max != -1:\n",
    "            plt.imshow(activation[0,:,:, featuremap], interpolation=\"nearest\", vmax=activation_max, cmap=\"gray\")\n",
    "        elif activation_min !=-1:\n",
    "            plt.imshow(activation[0,:,:, featuremap], interpolation=\"nearest\", vmin=activation_min, cmap=\"gray\")\n",
    "        else:\n",
    "            plt.imshow(activation[0,:,:, featuremap], interpolation=\"nearest\", cmap=\"gray\")"
   ]
  }
 ],
 "metadata": {
  "anaconda-cloud": {},
  "kernelspec": {
   "display_name": "Python 3",
   "language": "python",
   "name": "python3"
  },
  "language_info": {
   "codemirror_mode": {
    "name": "ipython",
    "version": 3
   },
   "file_extension": ".py",
   "mimetype": "text/x-python",
   "name": "python",
   "nbconvert_exporter": "python",
   "pygments_lexer": "ipython3",
   "version": "3.5.2"
  },
  "widgets": {
   "state": {},
   "version": "1.1.2"
  }
 },
 "nbformat": 4,
 "nbformat_minor": 1
}
