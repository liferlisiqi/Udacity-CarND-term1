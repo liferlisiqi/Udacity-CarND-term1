{
 "cells": [
  {
   "cell_type": "markdown",
   "metadata": {},
   "source": [
    "# Miniflow"
   ]
  },
  {
   "cell_type": "code",
   "execution_count": 64,
   "metadata": {
    "collapsed": true
   },
   "outputs": [],
   "source": [
    "import numpy as np"
   ]
  },
  {
   "cell_type": "code",
   "execution_count": 65,
   "metadata": {},
   "outputs": [],
   "source": [
    "class Node(object):\n",
    "    def __init__(self, inbound_nodes=[]):\n",
    "        self.inbound_nodes = inbound_nodes\n",
    "        self.outbound_nodes = []\n",
    "        self.value = None\n",
    "        self.gradients ={}\n",
    "        for n in self.inbound_nodes:\n",
    "            n.outbound_nodes.append(self)\n",
    "            \n",
    "    def forward(self):\n",
    "        raise NotImplementedError\n",
    "        \n",
    "    def backward(self):\n",
    "        raise NotImplementedError"
   ]
  },
  {
   "cell_type": "code",
   "execution_count": 66,
   "metadata": {
    "collapsed": true
   },
   "outputs": [],
   "source": [
    "class Input(Node):\n",
    "    def __init__(self):\n",
    "        Node.__init__(self)\n",
    "        \n",
    "    def forward(self):\n",
    "        pass\n",
    "    \n",
    "    def backward(self):\n",
    "        self.gradients = {self: 0}\n",
    "        for node in self.outbound_nodes:\n",
    "            self.gradients[self] += node.gradients[self] * 1"
   ]
  },
  {
   "cell_type": "code",
   "execution_count": 67,
   "metadata": {
    "collapsed": true
   },
   "outputs": [],
   "source": [
    "class Add(Node):\n",
    "    def __init__(self, *inputs):\n",
    "        Node.__init__(self, inputs)\n",
    "        self.value = 0\n",
    "        \n",
    "    def forward(self):\n",
    "        for x in self.inbound_nodes:\n",
    "            self.value = self.value + x.value"
   ]
  },
  {
   "cell_type": "code",
   "execution_count": 68,
   "metadata": {
    "collapsed": true
   },
   "outputs": [],
   "source": [
    "class Mul(Node):\n",
    "    def __init__(self, *inputs):\n",
    "        Node.__init__(self, inputs)\n",
    "        self.value = 1\n",
    "        \n",
    "    def forward(self):\n",
    "        for x in self.inbound_nodes:\n",
    "            self.value *= x.value"
   ]
  },
  {
   "cell_type": "code",
   "execution_count": 69,
   "metadata": {
    "collapsed": true
   },
   "outputs": [],
   "source": [
    "class Linear(Node):\n",
    "    def __init__(self, inputs, weights, bias):\n",
    "        Node.__init__(self, [inputs, weights, bias])\n",
    "        \n",
    "    def forward(self):\n",
    "        X = self.inbound_nodes[0].value\n",
    "        W = self.inbound_nodes[1].value\n",
    "        b = self.inbound_nodes[2].value\n",
    "#         print(inputs.value)\n",
    "#         print(weights.value)\n",
    "#         print(bias.value)\n",
    "        self.value = np.dot(X, W) + b\n",
    "    \n",
    "    def backward(self):\n",
    "        self.gradients = {n: np.zeros_like(n.value) for n in self.inbound_nodes}\n",
    "        for n in self.outbound_nodes:\n",
    "            grad_cost = n.gradients[self]\n",
    "            self.gradients[self.inbound_nodes[0]] += np.dot(grad_cost, self.inbound_nodes[1].value.T)\n",
    "            self.gradients[self.inbound_nodes[1]] += np.dot(self.inbound_nodes[0].value.T, grad_cost)\n",
    "            self.gradients[self.inbound_nodes[2]] += np.sum(grad_cost, axis=0, keepdims=False)\n",
    "            "
   ]
  },
  {
   "cell_type": "code",
   "execution_count": 93,
   "metadata": {},
   "outputs": [],
   "source": [
    "class Sigmoid(Node):\n",
    "    def __init__(self, node):\n",
    "        Node.__init__(self, [node])\n",
    "        \n",
    "    def sigmoid(self, x):\n",
    "        return 1 / (1 + np.exp(-x))\n",
    "    \n",
    "    def forward(self):\n",
    "        linear = self.inbound_nodes[0]\n",
    "        self.value = self.sigmoid(linear.value)\n",
    "#         when did the Linear.forward executed?\n",
    "#         X = linear.inbound_nodes[0].value\n",
    "#         W = linear.inbound_nodes[1].value\n",
    "#         b = linear.inbound_nodes[2].value\n",
    "#         self.value = self.sigmoid(np.dot(X, W) + b)\n",
    "    def backward(self):\n",
    "        self.gradients = {n: np.zeros_like(n.value) for n in self.inbound_nodes}\n",
    "        for n in self.outbound_nodes:\n",
    "            grad_cost = n.gradients[self]\n",
    "            sigmoid_prime = self.value * (1 - self.value)\n",
    "#             print(sigmoid_prime)\n",
    "#             print(grad_cost)\n",
    "            self.gradients[self.inbound_nodes[0]] += grad_cost * sigmoid_prime\n",
    "            "
   ]
  },
  {
   "cell_type": "code",
   "execution_count": 71,
   "metadata": {},
   "outputs": [],
   "source": [
    "class MSE(Node):\n",
    "    def __init__(self, y, a):\n",
    "        Node.__init__(self, [y, a])\n",
    "        \n",
    "    def forward(self):\n",
    "        y = self.inbound_nodes[0].value.reshape(-1, 1)\n",
    "        a = self.inbound_nodes[1].value.reshape(-1, 1)\n",
    "#         print(y)\n",
    "#         print(a)\n",
    "        # mean square error, so easy\n",
    "        self.m = self.inbound_nodes[0].value.shape[0]\n",
    "        self.diff = y - a\n",
    "        self.value = np.mean(self.diff ** 2)\n",
    "        \n",
    "    def backward(self):\n",
    "        self.gradients[self.inbound_nodes[0]] = (2 / self.m) * self.diff\n",
    "        self.gradients[self.inbound_nodes[1]] = (-2 / self.m) * self.diff"
   ]
  },
  {
   "cell_type": "markdown",
   "metadata": {},
   "source": [
    "What is the goal of this method?  \n",
    "How does this mehtod achieve the goal?"
   ]
  },
  {
   "cell_type": "code",
   "execution_count": 72,
   "metadata": {
    "collapsed": true
   },
   "outputs": [],
   "source": [
    "def topogical_sort(feed_dict):\n",
    "    input_nodes = [n for n in feed_dict.keys()]\n",
    "\n",
    "    G = {}\n",
    "    nodes = [n for n in input_nodes]\n",
    "#     print(nodes[0])\n",
    "    while len(nodes) > 0:\n",
    "        n = nodes.pop(0)\n",
    "        if n not in G:\n",
    "            G[n] = {'in': set(), 'out': set()}\n",
    "        for m in n.outbound_nodes:\n",
    "            if m not in G:\n",
    "                G[m] = {'in': set(), 'out': set()}\n",
    "            G[n]['out'].add(m)\n",
    "            G[m]['in'].add(n)\n",
    "            nodes.append(m)\n",
    "            \n",
    "#     print(G)\n",
    "\n",
    "    L = []\n",
    "    S = set(input_nodes)\n",
    "    while len(S) > 0:\n",
    "        n = S.pop()\n",
    "\n",
    "        if isinstance(n, Input):\n",
    "            n.value = feed_dict[n]\n",
    "\n",
    "        L.append(n)\n",
    "        for m in n.outbound_nodes:\n",
    "            G[n]['out'].remove(m)\n",
    "            G[m]['in'].remove(n)\n",
    "            # if no other incoming edges add to S\n",
    "            if len(G[m]['in']) == 0:\n",
    "                S.add(m)\n",
    "    return L"
   ]
  },
  {
   "cell_type": "code",
   "execution_count": 73,
   "metadata": {
    "collapsed": true
   },
   "outputs": [],
   "source": [
    "def forward_pass(output_node, sorted_nodes):\n",
    "    for n in sorted_nodes:\n",
    "        n.forward()\n",
    "        print(type(n))\n",
    "    return output_node.value"
   ]
  },
  {
   "cell_type": "markdown",
   "metadata": {},
   "source": [
    "the core operation: backpropagation"
   ]
  },
  {
   "cell_type": "code",
   "execution_count": 101,
   "metadata": {},
   "outputs": [],
   "source": [
    "def BP(graph):\n",
    "    # forward pass\n",
    "    for node in graph:\n",
    "        node.forward()\n",
    "        \n",
    "    # backward pass    \n",
    "    for node in graph[::-1]:\n",
    "        node.backward()"
   ]
  },
  {
   "cell_type": "code",
   "execution_count": 143,
   "metadata": {},
   "outputs": [],
   "source": [
    "def SGD(trainables, learning_rate=1e-2):\n",
    "    for train in trainables:\n",
    "        gradient = train.gradients[train] # ?？?\n",
    "        train.value = train.value - learning_rate * gradient"
   ]
  },
  {
   "cell_type": "markdown",
   "metadata": {},
   "source": [
    "# neural network"
   ]
  },
  {
   "cell_type": "markdown",
   "metadata": {},
   "source": [
    "## add"
   ]
  },
  {
   "cell_type": "code",
   "execution_count": 75,
   "metadata": {},
   "outputs": [
    {
     "name": "stdout",
     "output_type": "stream",
     "text": [
      "<class '__main__.Input'>\n",
      "<class '__main__.Input'>\n",
      "<class '__main__.Input'>\n",
      "<class '__main__.Add'>\n",
      "4 + 5 + 10 = 19 (according to miniflow)\n"
     ]
    }
   ],
   "source": [
    "x, y, z = Input(), Input(), Input()\n",
    "f = Add(x, y, z)\n",
    "feed_dict = {x: 4, y: 5, z: 10}\n",
    "graph = topogical_sort(feed_dict)\n",
    "output_add = forward_pass(f, graph)\n",
    "print(\"{} + {} + {} = {} (according to miniflow)\".format(feed_dict[x], feed_dict[y], feed_dict[z], output_add))"
   ]
  },
  {
   "cell_type": "markdown",
   "metadata": {},
   "source": [
    "## multiple"
   ]
  },
  {
   "cell_type": "code",
   "execution_count": 76,
   "metadata": {},
   "outputs": [
    {
     "name": "stdout",
     "output_type": "stream",
     "text": [
      "<class '__main__.Input'>\n",
      "<class '__main__.Input'>\n",
      "<class '__main__.Input'>\n",
      "<class '__main__.Mul'>\n",
      "4 * 5 * 10 = 200 (according to miniflow)\n"
     ]
    }
   ],
   "source": [
    "\n",
    "x, y, z = Input(), Input(), Input()\n",
    "h = Mul(x, y, z)\n",
    "feed_dict = {x: 4, y: 5, z: 10}\n",
    "graph = topogical_sort(feed_dict)\n",
    "output_mul = forward_pass(h, graph)\n",
    "print(\"{} * {} * {} = {} (according to miniflow)\".format(feed_dict[x], feed_dict[y], feed_dict[z], output_mul))"
   ]
  },
  {
   "cell_type": "markdown",
   "metadata": {},
   "source": [
    "## linear"
   ]
  },
  {
   "cell_type": "code",
   "execution_count": 77,
   "metadata": {},
   "outputs": [
    {
     "name": "stdout",
     "output_type": "stream",
     "text": [
      "<class '__main__.Input'>\n",
      "<class '__main__.Input'>\n",
      "<class '__main__.Input'>\n",
      "<class '__main__.Linear'>\n",
      "12.7\n"
     ]
    }
   ],
   "source": [
    "inputs, weights, bias = Input(), Input(), Input()\n",
    "f = Linear(inputs, weights, bias)\n",
    "feed_dict = {inputs: [6, 14, 3], weights: [0.5, 0.25, 1.4], bias: 2}\n",
    "graph = topogical_sort(feed_dict)\n",
    "output = forward_pass(f, graph)\n",
    "print(output)"
   ]
  },
  {
   "cell_type": "markdown",
   "metadata": {},
   "source": [
    "## sigmoid"
   ]
  },
  {
   "cell_type": "code",
   "execution_count": 78,
   "metadata": {},
   "outputs": [
    {
     "name": "stdout",
     "output_type": "stream",
     "text": [
      "<class '__main__.Input'>\n",
      "<class '__main__.Input'>\n",
      "<class '__main__.Input'>\n",
      "<class '__main__.Linear'>\n",
      "<class '__main__.Sigmoid'>\n",
      "[[  1.23394576e-04   9.82013790e-01]\n",
      " [  1.23394576e-04   9.82013790e-01]]\n"
     ]
    }
   ],
   "source": [
    "X, W, b = Input(), Input(), Input()\n",
    "\n",
    "f = Linear(X, W, b)\n",
    "g = Sigmoid(f)\n",
    "\n",
    "X_value = np.array([[-1., -2.], [-1., -2.]])\n",
    "W_value = np.array([[2., -3.], [2., -3.]])\n",
    "b_value = np.array([-3., -5.])\n",
    "\n",
    "feed_dict = {X: X_value, W: W_value, b: b_value}\n",
    "graph = topogical_sort(feed_dict)\n",
    "output = forward_pass(g, graph)\n",
    "print(output)"
   ]
  },
  {
   "cell_type": "code",
   "execution_count": 79,
   "metadata": {},
   "outputs": [
    {
     "name": "stdout",
     "output_type": "stream",
     "text": [
      "23.4166666667\n"
     ]
    }
   ],
   "source": [
    "y, a = Input(), Input()\n",
    "cost = MSE(y, a)\n",
    "\n",
    "y_value = np.array([1, 2, 3])\n",
    "a_value = np.array([4.5, 5, 10])\n",
    "\n",
    "feed_dict = {y: y_value, a: a_value}\n",
    "graph = topogical_sort(feed_dict)\n",
    "# forward_pass(graph)\n",
    "for n in graph:\n",
    "    n.forward()\n",
    "    \n",
    "print(cost.value)"
   ]
  },
  {
   "cell_type": "markdown",
   "metadata": {},
   "source": [
    "# backpropagation"
   ]
  },
  {
   "cell_type": "code",
   "execution_count": 96,
   "metadata": {},
   "outputs": [
    {
     "name": "stdout",
     "output_type": "stream",
     "text": [
      "[[ -3.34017280e-05  -5.01025919e-05]\n",
      " [ -6.68040138e-05  -1.00206021e-04]]\n",
      "[[ 0.9999833]\n",
      " [ 1.9999833]]\n",
      "[[  5.01028709e-05]\n",
      " [  1.00205742e-04]]\n",
      "[ -5.01028709e-05]\n"
     ]
    }
   ],
   "source": [
    "X, W, b = Input(), Input(), Input()\n",
    "y = Input()\n",
    "f = Linear(X, W, b)\n",
    "a = Sigmoid(f)\n",
    "cost = MSE(y, a)\n",
    "\n",
    "X_value = np.array([[-1., -2.], [-1., -2.]])\n",
    "W_value = np.array([[2.], [3.]])\n",
    "b_value = np.array([-3.])\n",
    "y_value = np.array([1, 2])\n",
    "\n",
    "feed_dict = {X: X_value, y: y_value, W: W_value, b: b_value}\n",
    "\n",
    "graph = topogical_sort(feed_dict)\n",
    "BP(graph)\n",
    "gradients = [t.gradients[t] for t in [X, y, W, b]]\n",
    "print(gradients[0])\n",
    "print(gradients[1])\n",
    "print(gradients[2])\n",
    "print(gradients[3])"
   ]
  },
  {
   "cell_type": "markdown",
   "metadata": {},
   "source": [
    "# stochastic gradient descent"
   ]
  },
  {
   "cell_type": "code",
   "execution_count": 145,
   "metadata": {
    "scrolled": true
   },
   "outputs": [
    {
     "name": "stdout",
     "output_type": "stream",
     "text": [
      "46\n",
      "Total number of examples = 506\n",
      "*********** epoch: 0 *************\n",
      "Epoch: 1, Loss: 162.132\n",
      "*********** epoch: 1 *************\n",
      "Epoch: 2, Loss: 28.200\n",
      "*********** epoch: 2 *************\n",
      "Epoch: 3, Loss: 29.991\n",
      "*********** epoch: 3 *************\n",
      "Epoch: 4, Loss: 24.412\n",
      "*********** epoch: 4 *************\n",
      "Epoch: 5, Loss: 25.091\n",
      "*********** epoch: 5 *************\n",
      "Epoch: 6, Loss: 31.724\n",
      "*********** epoch: 6 *************\n",
      "Epoch: 7, Loss: 21.761\n",
      "*********** epoch: 7 *************\n",
      "Epoch: 8, Loss: 20.499\n",
      "*********** epoch: 8 *************\n",
      "Epoch: 9, Loss: 18.726\n",
      "*********** epoch: 9 *************\n",
      "Epoch: 10, Loss: 17.933\n"
     ]
    }
   ],
   "source": [
    "from sklearn.datasets import load_boston\n",
    "from sklearn.utils import shuffle, resample\n",
    "\n",
    "# Load data\n",
    "data = load_boston()\n",
    "# print(data)\n",
    "X_ = data['data']\n",
    "y_ = data['target']\n",
    "\n",
    "# Normalize data\n",
    "X_ = (X_ - np.mean(X_, axis=0)) / np.std(X_, axis=0)\n",
    "\n",
    "n_features = X_.shape[1]\n",
    "n_hidden = 10\n",
    "W1_ = np.random.randn(n_features, n_hidden)\n",
    "b1_ = np.zeros(n_hidden)\n",
    "W2_ = np.random.randn(n_hidden, 1)\n",
    "b2_ = np.zeros(1)\n",
    "\n",
    "# Neural network\n",
    "X, y = Input(), Input()\n",
    "W1, b1 = Input(), Input()\n",
    "W2, b2 = Input(), Input()\n",
    "\n",
    "l1 = Linear(X, W1, b1)\n",
    "s1 = Sigmoid(l1)\n",
    "l2 = Linear(s1, W2, b2)\n",
    "cost = MSE(y, l2)\n",
    "\n",
    "feed_dict = {X: X_, y: y_, W1: W1_, b1: b1_, W2: W2_, b2: b2_}\n",
    "\n",
    "epochs = 10\n",
    "# Total number of examples\n",
    "m = X_.shape[0]\n",
    "batch_size = 11\n",
    "steps_per_epoch = m // batch_size \n",
    "print(steps_per_epoch)\n",
    "\n",
    "graph = topogical_sort(feed_dict)\n",
    "trainables = [W1, b1, W2, b2]\n",
    "\n",
    "print(\"Total number of examples = {}\".format(m))\n",
    "\n",
    "# Step 4\n",
    "for i in range(epochs):\n",
    "    print(\"*********** epoch:\", i, \"*************\")\n",
    "    loss = 0\n",
    "    for j in range(steps_per_epoch):\n",
    "        # Step 1\n",
    "        # Randomly sample a batch of examples\n",
    "        X_batch, y_batch = resample(X_, y_, n_samples=batch_size)\n",
    "\n",
    "        # Reset value of X and y Inputs\n",
    "        X.value = X_batch\n",
    "        y.value = y_batch\n",
    "\n",
    "        # Step 2\n",
    "        BP(graph)\n",
    "\n",
    "        # Step 3\n",
    "        SGD(trainables)\n",
    "\n",
    "        loss += graph[-1].value\n",
    "\n",
    "    print(\"Epoch: {}, Loss: {:.3f}\".format(i+1, loss/steps_per_epoch))\n"
   ]
  }
 ],
 "metadata": {
  "kernelspec": {
   "display_name": "Python 3",
   "language": "python",
   "name": "python3"
  },
  "language_info": {
   "codemirror_mode": {
    "name": "ipython",
    "version": 3
   },
   "file_extension": ".py",
   "mimetype": "text/x-python",
   "name": "python",
   "nbconvert_exporter": "python",
   "pygments_lexer": "ipython3",
   "version": "3.5.2"
  },
  "widgets": {
   "state": {},
   "version": "1.1.2"
  }
 },
 "nbformat": 4,
 "nbformat_minor": 2
}
