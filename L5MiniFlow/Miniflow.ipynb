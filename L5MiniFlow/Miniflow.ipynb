{
 "cells": [
  {
   "cell_type": "markdown",
   "metadata": {},
   "source": [
    "# Miniflow"
   ]
  },
  {
   "cell_type": "code",
   "execution_count": 64,
   "metadata": {
    "collapsed": true
   },
   "outputs": [],
   "source": [
    "import numpy as np"
   ]
  },
  {
   "cell_type": "code",
   "execution_count": 65,
   "metadata": {},
   "outputs": [],
   "source": [
    "class Node(object):\n",
    "    def __init__(self, inbound_nodes=[]):\n",
    "        self.inbound_nodes = inbound_nodes\n",
    "        self.outbound_nodes = []\n",
    "        self.value = None\n",
    "        self.gradients ={}\n",
    "        for n in self.inbound_nodes:\n",
    "            n.outbound_nodes.append(self)\n",
    "            \n",
    "    def forward(self):\n",
    "        raise NotImplementedError\n",
    "        \n",
    "    def backward(self):\n",
    "        raise NotImplementedError"
   ]
  },
  {
   "cell_type": "code",
   "execution_count": 66,
   "metadata": {
    "collapsed": true
   },
   "outputs": [],
   "source": [
    "class Input(Node):\n",
    "    def __init__(self):\n",
    "        Node.__init__(self)\n",
    "        \n",
    "    def forward(self):\n",
    "        pass\n",
    "    \n",
    "    def backward(self):\n",
    "        self.gradients = {self: 0}\n",
    "        for node in self.outbound_nodes:\n",
    "            self.gradients[self] += node.gradients[self] * 1"
   ]
  },
  {
   "cell_type": "code",
   "execution_count": 67,
   "metadata": {
    "collapsed": true
   },
   "outputs": [],
   "source": [
    "class Add(Node):\n",
    "    def __init__(self, *inputs):\n",
    "        Node.__init__(self, inputs)\n",
    "        self.value = 0\n",
    "        \n",
    "    def forward(self):\n",
    "        for x in self.inbound_nodes:\n",
    "            self.value = self.value + x.value"
   ]
  },
  {
   "cell_type": "code",
   "execution_count": 68,
   "metadata": {
    "collapsed": true
   },
   "outputs": [],
   "source": [
    "class Mul(Node):\n",
    "    def __init__(self, *inputs):\n",
    "        Node.__init__(self, inputs)\n",
    "        self.value = 1\n",
    "        \n",
    "    def forward(self):\n",
    "        for x in self.inbound_nodes:\n",
    "            self.value *= x.value"
   ]
  },
  {
   "cell_type": "code",
   "execution_count": 69,
   "metadata": {
    "collapsed": true
   },
   "outputs": [],
   "source": [
    "class Linear(Node):\n",
    "    def __init__(self, inputs, weights, bias):\n",
    "        Node.__init__(self, [inputs, weights, bias])\n",
    "        \n",
    "    def forward(self):\n",
    "        X = self.inbound_nodes[0].value\n",
    "        W = self.inbound_nodes[1].value\n",
    "        b = self.inbound_nodes[2].value\n",
    "#         print(inputs.value)\n",
    "#         print(weights.value)\n",
    "#         print(bias.value)\n",
    "        self.value = np.dot(X, W) + b\n",
    "    \n",
    "    def backward(self):\n",
    "        self.gradients = {n: np.zeros_like(n.value) for n in self.inbound_nodes}\n",
    "        for n in self.outbound_nodes:\n",
    "            grad_cost = n.gradients[self]\n",
    "            self.gradients[self.inbound_nodes[0]] += np.dot(grad_cost, self.inbound_nodes[1].value.T)\n",
    "            self.gradients[self.inbound_nodes[1]] += np.dot(self.inbound_nodes[0].value.T, grad_cost)\n",
    "            self.gradients[self.inbound_nodes[2]] += np.sum(grad_cost, axis=0, keepdims=False)\n",
    "            "
   ]
  },
  {
   "cell_type": "code",
   "execution_count": 93,
   "metadata": {},
   "outputs": [],
   "source": [
    "class Sigmoid(Node):\n",
    "    def __init__(self, node):\n",
    "        Node.__init__(self, [node])\n",
    "        \n",
    "    def sigmoid(self, x):\n",
    "        return 1 / (1 + np.exp(-x))\n",
    "    \n",
    "    def forward(self):\n",
    "        linear = self.inbound_nodes[0]\n",
    "        self.value = self.sigmoid(linear.value)\n",
    "#         when did the Linear.forward executed?\n",
    "#         X = linear.inbound_nodes[0].value\n",
    "#         W = linear.inbound_nodes[1].value\n",
    "#         b = linear.inbound_nodes[2].value\n",
    "#         self.value = self.sigmoid(np.dot(X, W) + b)\n",
    "    def backward(self):\n",
    "        self.gradients = {n: np.zeros_like(n.value) for n in self.inbound_nodes}\n",
    "        for n in self.outbound_nodes:\n",
    "            grad_cost = n.gradients[self]\n",
    "            sigmoid_prime = self.value * (1 - self.value)\n",
    "#             print(sigmoid_prime)\n",
    "#             print(grad_cost)\n",
    "            self.gradients[self.inbound_nodes[0]] += grad_cost * sigmoid_prime\n",
    "            "
   ]
  },
  {
   "cell_type": "code",
   "execution_count": 71,
   "metadata": {},
   "outputs": [],
   "source": [
    "class MSE(Node):\n",
    "    def __init__(self, y, a):\n",
    "        Node.__init__(self, [y, a])\n",
    "        \n",
    "    def forward(self):\n",
    "        y = self.inbound_nodes[0].value.reshape(-1, 1)\n",
    "        a = self.inbound_nodes[1].value.reshape(-1, 1)\n",
    "#         print(y)\n",
    "#         print(a)\n",
    "        # mean square error, so easy\n",
    "        self.m = self.inbound_nodes[0].value.shape[0]\n",
    "        self.diff = y - a\n",
    "        self.value = np.mean(self.diff ** 2)\n",
    "        \n",
    "    def backward(self):\n",
    "        self.gradients[self.inbound_nodes[0]] = (2 / self.m) * self.diff\n",
    "        self.gradients[self.inbound_nodes[1]] = (-2 / self.m) * self.diff"
   ]
  },
  {
   "cell_type": "markdown",
   "metadata": {},
   "source": [
    "What is the goal of this method?  \n",
    "How does this mehtod achieve the goal?"
   ]
  },
  {
   "cell_type": "code",
   "execution_count": 72,
   "metadata": {
    "collapsed": true
   },
   "outputs": [],
   "source": [
    "def topogical_sort(feed_dict):\n",
    "    input_nodes = [n for n in feed_dict.keys()]\n",
    "\n",
    "    G = {}\n",
    "    nodes = [n for n in input_nodes]\n",
    "#     print(nodes[0])\n",
    "    while len(nodes) > 0:\n",
    "        n = nodes.pop(0)\n",
    "        if n not in G:\n",
    "            G[n] = {'in': set(), 'out': set()}\n",
    "        for m in n.outbound_nodes:\n",
    "            if m not in G:\n",
    "                G[m] = {'in': set(), 'out': set()}\n",
    "            G[n]['out'].add(m)\n",
    "            G[m]['in'].add(n)\n",
    "            nodes.append(m)\n",
    "            \n",
    "#     print(G)\n",
    "\n",
    "    L = []\n",
    "    S = set(input_nodes)\n",
    "    while len(S) > 0:\n",
    "        n = S.pop()\n",
    "\n",
    "        if isinstance(n, Input):\n",
    "            n.value = feed_dict[n]\n",
    "\n",
    "        L.append(n)\n",
    "        for m in n.outbound_nodes:\n",
    "            G[n]['out'].remove(m)\n",
    "            G[m]['in'].remove(n)\n",
    "            # if no other incoming edges add to S\n",
    "            if len(G[m]['in']) == 0:\n",
    "                S.add(m)\n",
    "    return L"
   ]
  },
  {
   "cell_type": "code",
   "execution_count": 73,
   "metadata": {
    "collapsed": true
   },
   "outputs": [],
   "source": [
    "def forward_pass(output_node, sorted_nodes):\n",
    "    for n in sorted_nodes:\n",
    "        n.forward()\n",
    "        print(type(n))\n",
    "    return output_node.value"
   ]
  },
  {
   "cell_type": "markdown",
   "metadata": {},
   "source": [
    "the core operation: backpropagation"
   ]
  },
  {
   "cell_type": "code",
   "execution_count": 101,
   "metadata": {},
   "outputs": [],
   "source": [
    "def BP(graph):\n",
    "    # forward pass\n",
    "    for node in graph:\n",
    "        node.forward()\n",
    "        \n",
    "    # backward pass    \n",
    "    for node in graph[::-1]:\n",
    "        node.backward()"
   ]
  },
  {
   "cell_type": "code",
   "execution_count": 143,
   "metadata": {},
   "outputs": [],
   "source": [
    "def SGD(trainables, learning_rate=1e-2):\n",
    "    for train in trainables:\n",
    "        gradient = train.gradients[train] # ?？?\n",
    "        train.value = train.value - learning_rate * gradient"
   ]
  },
  {
   "cell_type": "markdown",
   "metadata": {},
   "source": [
    "# neural network"
   ]
  },
  {
   "cell_type": "markdown",
   "metadata": {},
   "source": [
    "## add"
   ]
  },
  {
   "cell_type": "code",
   "execution_count": 75,
   "metadata": {},
   "outputs": [
    {
     "name": "stdout",
     "output_type": "stream",
     "text": [
      "<class '__main__.Input'>\n",
      "<class '__main__.Input'>\n",
      "<class '__main__.Input'>\n",
      "<class '__main__.Add'>\n",
      "4 + 5 + 10 = 19 (according to miniflow)\n"
     ]
    }
   ],
   "source": [
    "x, y, z = Input(), Input(), Input()\n",
    "f = Add(x, y, z)\n",
    "feed_dict = {x: 4, y: 5, z: 10}\n",
    "graph = topogical_sort(feed_dict)\n",
    "output_add = forward_pass(f, graph)\n",
    "print(\"{} + {} + {} = {} (according to miniflow)\".format(feed_dict[x], feed_dict[y], feed_dict[z], output_add))"
   ]
  },
  {
   "cell_type": "markdown",
   "metadata": {},
   "source": [
    "## multiple"
   ]
  },
  {
   "cell_type": "code",
   "execution_count": 76,
   "metadata": {},
   "outputs": [
    {
     "name": "stdout",
     "output_type": "stream",
     "text": [
      "<class '__main__.Input'>\n",
      "<class '__main__.Input'>\n",
      "<class '__main__.Input'>\n",
      "<class '__main__.Mul'>\n",
      "4 * 5 * 10 = 200 (according to miniflow)\n"
     ]
    }
   ],
   "source": [
    "\n",
    "x, y, z = Input(), Input(), Input()\n",
    "h = Mul(x, y, z)\n",
    "feed_dict = {x: 4, y: 5, z: 10}\n",
    "graph = topogical_sort(feed_dict)\n",
    "output_mul = forward_pass(h, graph)\n",
    "print(\"{} * {} * {} = {} (according to miniflow)\".format(feed_dict[x], feed_dict[y], feed_dict[z], output_mul))"
   ]
  },
  {
   "cell_type": "markdown",
   "metadata": {},
   "source": [
    "## linear"
   ]
  },
  {
   "cell_type": "code",
   "execution_count": 77,
   "metadata": {},
   "outputs": [
    {
     "name": "stdout",
     "output_type": "stream",
     "text": [
      "<class '__main__.Input'>\n",
      "<class '__main__.Input'>\n",
      "<class '__main__.Input'>\n",
      "<class '__main__.Linear'>\n",
      "12.7\n"
     ]
    }
   ],
   "source": [
    "inputs, weights, bias = Input(), Input(), Input()\n",
    "f = Linear(inputs, weights, bias)\n",
    "feed_dict = {inputs: [6, 14, 3], weights: [0.5, 0.25, 1.4], bias: 2}\n",
    "graph = topogical_sort(feed_dict)\n",
    "output = forward_pass(f, graph)\n",
    "print(output)"
   ]
  },
  {
   "cell_type": "markdown",
   "metadata": {},
   "source": [
    "## sigmoid"
   ]
  },
  {
   "cell_type": "code",
   "execution_count": 78,
   "metadata": {},
   "outputs": [
    {
     "name": "stdout",
     "output_type": "stream",
     "text": [
      "<class '__main__.Input'>\n",
      "<class '__main__.Input'>\n",
      "<class '__main__.Input'>\n",
      "<class '__main__.Linear'>\n",
      "<class '__main__.Sigmoid'>\n",
      "[[  1.23394576e-04   9.82013790e-01]\n",
      " [  1.23394576e-04   9.82013790e-01]]\n"
     ]
    }
   ],
   "source": [
    "X, W, b = Input(), Input(), Input()\n",
    "\n",
    "f = Linear(X, W, b)\n",
    "g = Sigmoid(f)\n",
    "\n",
    "X_value = np.array([[-1., -2.], [-1., -2.]])\n",
    "W_value = np.array([[2., -3.], [2., -3.]])\n",
    "b_value = np.array([-3., -5.])\n",
    "\n",
    "feed_dict = {X: X_value, W: W_value, b: b_value}\n",
    "graph = topogical_sort(feed_dict)\n",
    "output = forward_pass(g, graph)\n",
    "print(output)"
   ]
  },
  {
   "cell_type": "code",
   "execution_count": 79,
   "metadata": {},
   "outputs": [
    {
     "name": "stdout",
     "output_type": "stream",
     "text": [
      "23.4166666667\n"
     ]
    }
   ],
   "source": [
    "y, a = Input(), Input()\n",
    "cost = MSE(y, a)\n",
    "\n",
    "y_value = np.array([1, 2, 3])\n",
    "a_value = np.array([4.5, 5, 10])\n",
    "\n",
    "feed_dict = {y: y_value, a: a_value}\n",
    "graph = topogical_sort(feed_dict)\n",
    "# forward_pass(graph)\n",
    "for n in graph:\n",
    "    n.forward()\n",
    "    \n",
    "print(cost.value)"
   ]
  },
  {
   "cell_type": "markdown",
   "metadata": {},
   "source": [
    "# backpropagation"
   ]
  },
  {
   "cell_type": "code",
   "execution_count": 96,
   "metadata": {},
   "outputs": [
    {
     "name": "stdout",
     "output_type": "stream",
     "text": [
      "[[ -3.34017280e-05  -5.01025919e-05]\n",
      " [ -6.68040138e-05  -1.00206021e-04]]\n",
      "[[ 0.9999833]\n",
      " [ 1.9999833]]\n",
      "[[  5.01028709e-05]\n",
      " [  1.00205742e-04]]\n",
      "[ -5.01028709e-05]\n"
     ]
    }
   ],
   "source": [
    "X, W, b = Input(), Input(), Input()\n",
    "y = Input()\n",
    "f = Linear(X, W, b)\n",
    "a = Sigmoid(f)\n",
    "cost = MSE(y, a)\n",
    "\n",
    "X_value = np.array([[-1., -2.], [-1., -2.]])\n",
    "W_value = np.array([[2.], [3.]])\n",
    "b_value = np.array([-3.])\n",
    "y_value = np.array([1, 2])\n",
    "\n",
    "feed_dict = {X: X_value, y: y_value, W: W_value, b: b_value}\n",
    "\n",
    "graph = topogical_sort(feed_dict)\n",
    "BP(graph)\n",
    "gradients = [t.gradients[t] for t in [X, y, W, b]]\n",
    "print(gradients[0])\n",
    "print(gradients[1])\n",
    "print(gradients[2])\n",
    "print(gradients[3])"
   ]
  },
  {
   "cell_type": "markdown",
   "metadata": {},
   "source": [
    "# stochastic gradient descent"
   ]
  },
  {
   "cell_type": "code",
   "execution_count": 148,
   "metadata": {
    "scrolled": true
   },
   "outputs": [
    {
     "name": "stdout",
     "output_type": "stream",
     "text": [
      "46\n",
      "Total number of examples = 506\n",
      "Epoch: 1, Loss: 120.841\n",
      "Epoch: 2, Loss: 41.989\n",
      "Epoch: 3, Loss: 27.974\n",
      "Epoch: 4, Loss: 26.604\n",
      "Epoch: 5, Loss: 22.233\n",
      "Epoch: 6, Loss: 18.841\n",
      "Epoch: 7, Loss: 17.920\n",
      "Epoch: 8, Loss: 18.798\n",
      "Epoch: 9, Loss: 18.804\n",
      "Epoch: 10, Loss: 15.897\n",
      "Epoch: 11, Loss: 17.410\n",
      "Epoch: 12, Loss: 15.659\n",
      "Epoch: 13, Loss: 14.631\n",
      "Epoch: 14, Loss: 16.686\n",
      "Epoch: 15, Loss: 16.607\n",
      "Epoch: 16, Loss: 16.552\n",
      "Epoch: 17, Loss: 12.978\n",
      "Epoch: 18, Loss: 10.758\n",
      "Epoch: 19, Loss: 10.784\n",
      "Epoch: 20, Loss: 13.849\n",
      "Epoch: 21, Loss: 8.970\n",
      "Epoch: 22, Loss: 12.179\n",
      "Epoch: 23, Loss: 10.602\n",
      "Epoch: 24, Loss: 8.556\n",
      "Epoch: 25, Loss: 13.707\n",
      "Epoch: 26, Loss: 11.858\n",
      "Epoch: 27, Loss: 12.923\n",
      "Epoch: 28, Loss: 9.465\n",
      "Epoch: 29, Loss: 10.165\n",
      "Epoch: 30, Loss: 11.731\n",
      "Epoch: 31, Loss: 9.839\n",
      "Epoch: 32, Loss: 11.684\n",
      "Epoch: 33, Loss: 9.831\n",
      "Epoch: 34, Loss: 11.676\n",
      "Epoch: 35, Loss: 10.419\n",
      "Epoch: 36, Loss: 9.862\n",
      "Epoch: 37, Loss: 10.067\n",
      "Epoch: 38, Loss: 12.902\n",
      "Epoch: 39, Loss: 8.596\n",
      "Epoch: 40, Loss: 10.881\n",
      "Epoch: 41, Loss: 9.355\n",
      "Epoch: 42, Loss: 9.859\n",
      "Epoch: 43, Loss: 9.572\n",
      "Epoch: 44, Loss: 9.267\n",
      "Epoch: 45, Loss: 8.421\n",
      "Epoch: 46, Loss: 9.131\n",
      "Epoch: 47, Loss: 7.809\n",
      "Epoch: 48, Loss: 7.718\n",
      "Epoch: 49, Loss: 7.750\n",
      "Epoch: 50, Loss: 7.125\n",
      "Epoch: 51, Loss: 9.020\n",
      "Epoch: 52, Loss: 9.218\n",
      "Epoch: 53, Loss: 8.646\n",
      "Epoch: 54, Loss: 9.088\n",
      "Epoch: 55, Loss: 8.426\n",
      "Epoch: 56, Loss: 8.179\n",
      "Epoch: 57, Loss: 8.540\n",
      "Epoch: 58, Loss: 8.568\n",
      "Epoch: 59, Loss: 8.080\n",
      "Epoch: 60, Loss: 7.402\n",
      "Epoch: 61, Loss: 7.416\n",
      "Epoch: 62, Loss: 7.148\n",
      "Epoch: 63, Loss: 6.929\n",
      "Epoch: 64, Loss: 6.465\n",
      "Epoch: 65, Loss: 8.977\n",
      "Epoch: 66, Loss: 8.105\n",
      "Epoch: 67, Loss: 7.602\n",
      "Epoch: 68, Loss: 7.640\n",
      "Epoch: 69, Loss: 7.532\n",
      "Epoch: 70, Loss: 8.293\n",
      "Epoch: 71, Loss: 6.820\n",
      "Epoch: 72, Loss: 6.666\n",
      "Epoch: 73, Loss: 7.284\n",
      "Epoch: 74, Loss: 5.676\n",
      "Epoch: 75, Loss: 7.266\n",
      "Epoch: 76, Loss: 5.945\n",
      "Epoch: 77, Loss: 6.677\n",
      "Epoch: 78, Loss: 6.346\n",
      "Epoch: 79, Loss: 7.284\n",
      "Epoch: 80, Loss: 7.586\n",
      "Epoch: 81, Loss: 5.958\n",
      "Epoch: 82, Loss: 5.429\n",
      "Epoch: 83, Loss: 6.613\n",
      "Epoch: 84, Loss: 5.293\n",
      "Epoch: 85, Loss: 6.486\n",
      "Epoch: 86, Loss: 5.216\n",
      "Epoch: 87, Loss: 5.692\n",
      "Epoch: 88, Loss: 5.286\n",
      "Epoch: 89, Loss: 5.882\n",
      "Epoch: 90, Loss: 6.882\n",
      "Epoch: 91, Loss: 4.881\n",
      "Epoch: 92, Loss: 5.251\n",
      "Epoch: 93, Loss: 7.300\n",
      "Epoch: 94, Loss: 5.147\n",
      "Epoch: 95, Loss: 5.356\n",
      "Epoch: 96, Loss: 6.087\n",
      "Epoch: 97, Loss: 6.885\n",
      "Epoch: 98, Loss: 5.929\n",
      "Epoch: 99, Loss: 6.272\n",
      "Epoch: 100, Loss: 5.839\n"
     ]
    }
   ],
   "source": [
    "from sklearn.datasets import load_boston\n",
    "from sklearn.utils import shuffle, resample\n",
    "\n",
    "# Load data\n",
    "data = load_boston()\n",
    "# print(data)\n",
    "X_ = data['data']\n",
    "y_ = data['target']\n",
    "\n",
    "# Normalize data\n",
    "X_ = (X_ - np.mean(X_, axis=0)) / np.std(X_, axis=0)\n",
    "\n",
    "n_features = X_.shape[1]\n",
    "n_hidden = 10\n",
    "W1_ = np.random.randn(n_features, n_hidden)\n",
    "b1_ = np.zeros(n_hidden)\n",
    "W2_ = np.random.randn(n_hidden, 1)\n",
    "b2_ = np.zeros(1)\n",
    "\n",
    "# Neural network\n",
    "X, y = Input(), Input()\n",
    "W1, b1 = Input(), Input()\n",
    "W2, b2 = Input(), Input()\n",
    "\n",
    "l1 = Linear(X, W1, b1)\n",
    "s1 = Sigmoid(l1)\n",
    "l2 = Linear(s1, W2, b2)\n",
    "cost = MSE(y, l2)\n",
    "\n",
    "feed_dict = {X: X_, y: y_, W1: W1_, b1: b1_, W2: W2_, b2: b2_}\n",
    "\n",
    "epochs = 100\n",
    "# Total number of examples\n",
    "m = X_.shape[0]\n",
    "batch_size = 11\n",
    "steps_per_epoch = m // batch_size \n",
    "print(steps_per_epoch)\n",
    "\n",
    "graph = topogical_sort(feed_dict)\n",
    "trainables = [W1, b1, W2, b2]\n",
    "\n",
    "print(\"Total number of examples = {}\".format(m))\n",
    "\n",
    "# Step 4\n",
    "for i in range(epochs):\n",
    "#     print(\"*********** epoch:\", i, \"*************\")\n",
    "    loss = 0\n",
    "    for j in range(steps_per_epoch):\n",
    "        # Step 1\n",
    "        # Randomly sample a batch of examples\n",
    "        X_batch, y_batch = resample(X_, y_, n_samples=batch_size)\n",
    "\n",
    "        # Reset value of X and y Inputs\n",
    "        X.value = X_batch\n",
    "        y.value = y_batch\n",
    "\n",
    "        # Step 2\n",
    "        BP(graph)\n",
    "\n",
    "        # Step 3\n",
    "        SGD(trainables)\n",
    "\n",
    "        loss += graph[-1].value\n",
    "\n",
    "    print(\"Epoch: {}, Loss: {:.3f}\".format(i+1, loss/steps_per_epoch))\n"
   ]
  }
 ],
 "metadata": {
  "kernelspec": {
   "display_name": "Python 3",
   "language": "python",
   "name": "python3"
  },
  "language_info": {
   "codemirror_mode": {
    "name": "ipython",
    "version": 3
   },
   "file_extension": ".py",
   "mimetype": "text/x-python",
   "name": "python",
   "nbconvert_exporter": "python",
   "pygments_lexer": "ipython3",
   "version": "3.5.2"
  },
  "widgets": {
   "state": {},
   "version": "1.1.2"
  }
 },
 "nbformat": 4,
 "nbformat_minor": 2
}
