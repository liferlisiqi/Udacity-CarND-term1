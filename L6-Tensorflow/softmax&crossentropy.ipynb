{
 "cells": [
  {
   "cell_type": "markdown",
   "metadata": {},
   "source": [
    "# softmax equation:\n",
    "$$ S(y_{ij}) = \\frac{e^{y_{ij}}}{\\sum_j{e^{y_{ij}}}}$$  \n",
    "The probabilities for each column must sum to 1"
   ]
  },
  {
   "cell_type": "code",
   "execution_count": 9,
   "metadata": {},
   "outputs": [
    {
     "name": "stdout",
     "output_type": "stream",
     "text": [
      "[[ 0.09003057  0.00242826  0.01587624  0.33333333]\n",
      " [ 0.24472847  0.01794253  0.11731043  0.33333333]\n",
      " [ 0.66524096  0.97962921  0.86681333  0.33333333]]\n"
     ]
    }
   ],
   "source": [
    "import numpy as np\n",
    "\n",
    "def my_softmax(X):\n",
    "    exp = np.exp(X)\n",
    "    return exp / np.sum(exp, axis=0)\n",
    "\n",
    "def softmax(X):\n",
    "    # why X - np.max(X)\n",
    "    # 当编写计算Softmax函数的代码时，由于指数的原因，中间项可能会非常大。\n",
    "    # 大数分割可能在数值上不稳定，因此使用规范化技巧很重要\n",
    "    exp = np.exp(X - np.max(X))\n",
    "    return exp / exp.sum(axis=0)\n",
    "\n",
    "logits1 = [3.0, 1.0, 0.2]\n",
    "logits2 = np.array([\n",
    "    [1, 2, 3, 6],\n",
    "    [2, 4, 5, 6],\n",
    "    [3, 8, 7, 6]])\n",
    "print(softmax(logits2))"
   ]
  },
  {
   "cell_type": "code",
   "execution_count": 16,
   "metadata": {},
   "outputs": [
    {
     "name": "stdout",
     "output_type": "stream",
     "text": [
      "[ 0.83601874  0.11314283  0.05083835]\n"
     ]
    }
   ],
   "source": [
    "# softmax function in tensorflow\n",
    "import tensorflow as tf\n",
    "\n",
    "logits = tf.placeholder(tf.float32)\n",
    "tf_softmax = tf.nn.softmax(logits)\n",
    "with tf.Session() as sess:\n",
    "    print(sess.run(tf_softmax, feed_dict={logits: logits1})) "
   ]
  }
 ],
 "metadata": {
  "kernelspec": {
   "display_name": "Python 2",
   "language": "python",
   "name": "python2"
  },
  "language_info": {
   "codemirror_mode": {
    "name": "ipython",
    "version": 2
   },
   "file_extension": ".py",
   "mimetype": "text/x-python",
   "name": "python",
   "nbconvert_exporter": "python",
   "pygments_lexer": "ipython2",
   "version": "2.7.12"
  }
 },
 "nbformat": 4,
 "nbformat_minor": 2
}
