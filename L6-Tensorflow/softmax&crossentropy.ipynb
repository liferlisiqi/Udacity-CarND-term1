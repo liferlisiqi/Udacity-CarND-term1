{
 "cells": [
  {
   "cell_type": "code",
   "execution_count": 2,
   "metadata": {},
   "outputs": [],
   "source": [
    "import numpy as np\n",
    "import tensorflow as tf"
   ]
  },
  {
   "cell_type": "markdown",
   "metadata": {},
   "source": [
    "# softmax equation:\n",
    "$$ S(y_{ij}) = \\frac{e^{y_{ij}}}{\\sum_j{e^{y_{ij}}}}$$  \n",
    "The probabilities for each column must sum to 1"
   ]
  },
  {
   "cell_type": "code",
   "execution_count": 15,
   "metadata": {},
   "outputs": [
    {
     "name": "stdout",
     "output_type": "stream",
     "text": [
      "[[ 0.09003057  0.00242826  0.01587624  0.33333333]\n",
      " [ 0.24472847  0.01794253  0.11731043  0.33333333]\n",
      " [ 0.66524096  0.97962921  0.86681333  0.33333333]]\n"
     ]
    }
   ],
   "source": [
    "def my_softmax(X):\n",
    "    exp = np.exp(X)\n",
    "    return exp / np.sum(exp, axis=0)\n",
    "\n",
    "def softmax(X):\n",
    "    # why X - np.max(X)\n",
    "    # 当编写计算Softmax函数的代码时，由于指数的原因，中间项可能会非常大。\n",
    "    # 大数分割可能在数值上不稳定，因此使用规范化技巧很重要\n",
    "    exp = np.exp(X - np.max(X))\n",
    "    return exp / exp.sum(axis=0)\n",
    "\n",
    "logits1 = np.array([3.0, 1.0, 0.2])\n",
    "logits2 = np.array([\n",
    "    [1, 2, 3, 6],\n",
    "    [2, 4, 5, 6],\n",
    "    [3, 8, 7, 6]])\n",
    "print(softmax(logits2))"
   ]
  },
  {
   "cell_type": "code",
   "execution_count": 16,
   "metadata": {},
   "outputs": [
    {
     "name": "stdout",
     "output_type": "stream",
     "text": [
      "[ 0.38842273  0.31801364  0.29356357]\n"
     ]
    }
   ],
   "source": [
    "# softmax function in tensorflow\n",
    "tf.multiply\n",
    "logits = tf.placeholder(tf.float32)\n",
    "# logits = tf.multiply(tf.placeholder(tf.float32), 10)\n",
    "# logits = tf.divide(tf.placeholder(tf.float32), 10)\n",
    "\n",
    "logits1 = logits1 / 10\n",
    "\n",
    "tf_softmax = tf.nn.softmax(logits)\n",
    "with tf.Session() as sess:\n",
    "    print(sess.run(tf_softmax, feed_dict={logits: logits1})) "
   ]
  },
  {
   "cell_type": "markdown",
   "metadata": {},
   "source": [
    "# cross entropy\n",
    "$$ D(\\overline{y}, y) = - \\sum_j{y_jln\\overline{y_j}}$$"
   ]
  },
  {
   "cell_type": "code",
   "execution_count": 4,
   "metadata": {},
   "outputs": [
    {
     "name": "stdout",
     "output_type": "stream",
     "text": [
      "15\n",
      "[ 2.30258512  2.19722462]\n"
     ]
    }
   ],
   "source": [
    "x = tf.reduce_sum([1,2,3,4,5])\n",
    "y = tf.log([10.0, 9.0])\n",
    "with tf.Session() as sess:\n",
    "    print sess.run(x)\n",
    "    print sess.run(y)"
   ]
  },
  {
   "cell_type": "code",
   "execution_count": 3,
   "metadata": {},
   "outputs": [
    {
     "name": "stdout",
     "output_type": "stream",
     "text": [
      "0.356675\n"
     ]
    }
   ],
   "source": [
    "softmax_data = [0.7, 0.2, 0.1]\n",
    "one_hot_data = [1.0, 0.0, 0.0]\n",
    "\n",
    "softmax = tf.placeholder(tf.float32)\n",
    "one_hot = tf.placeholder(tf.float32)\n",
    "\n",
    "cross_entropy = -tf.reduce_sum(tf.multiply(one_hot, tf.log(softmax)))\n",
    "\n",
    "with tf.Session() as sess:\n",
    "    print sess.run(cross_entropy, feed_dict={one_hot: one_hot_data, softmax: softmax_data})"
   ]
  },
  {
   "cell_type": "markdown",
   "metadata": {},
   "source": [
    "# numerical stability\n",
    "big number and small number"
   ]
  },
  {
   "cell_type": "code",
   "execution_count": 6,
   "metadata": {},
   "outputs": [
    {
     "name": "stdout",
     "output_type": "stream",
     "text": [
      "0.953674316406\n",
      "1.0\n"
     ]
    }
   ],
   "source": [
    "a = 1000000000\n",
    "for i in range(1000000):\n",
    "    a += 1e-6\n",
    "print a - 1000000000\n",
    "print 1e+0"
   ]
  }
 ],
 "metadata": {
  "kernelspec": {
   "display_name": "Python 2",
   "language": "python",
   "name": "python2"
  },
  "language_info": {
   "codemirror_mode": {
    "name": "ipython",
    "version": 2
   },
   "file_extension": ".py",
   "mimetype": "text/x-python",
   "name": "python",
   "nbconvert_exporter": "python",
   "pygments_lexer": "ipython2",
   "version": "2.7.12"
  }
 },
 "nbformat": 4,
 "nbformat_minor": 2
}
