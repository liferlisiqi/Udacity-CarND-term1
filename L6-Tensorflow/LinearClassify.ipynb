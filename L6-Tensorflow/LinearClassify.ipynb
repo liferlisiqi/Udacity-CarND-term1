{
 "cells": [
  {
   "cell_type": "code",
   "execution_count": 7,
   "metadata": {},
   "outputs": [],
   "source": [
    "import tensorflow as tf"
   ]
  },
  {
   "cell_type": "markdown",
   "metadata": {},
   "source": [
    "## y = xW + b\n",
    "tf.Variable()\n",
    "can be modified, user for weights and biases"
   ]
  },
  {
   "cell_type": "code",
   "execution_count": null,
   "metadata": {},
   "outputs": [],
   "source": [
    "init = tf.global_variables_initializer()\n",
    "# initialize the state of all the variable tensors\n",
    "# by return s anoperation that will initialize all \n",
    "# TensorFlow variablesfrom the graph\n",
    "with tf.Session() as sess:\n",
    "    sess.run(init)"
   ]
  },
  {
   "cell_type": "markdown",
   "metadata": {},
   "source": [
    "# initialize"
   ]
  },
  {
   "cell_type": "code",
   "execution_count": 8,
   "metadata": {},
   "outputs": [],
   "source": [
    "n_features = 120\n",
    "n_labels = 5\n",
    "weights = tf.Variable(tf.truncated_normal((n_features, n_labels)))\n",
    "# mean = 0.0 , stddev = 1.0\n",
    "bias = tf.Variable(tf.zeros(n_labels))"
   ]
  },
  {
   "cell_type": "markdown",
   "metadata": {},
   "source": [
    "# linear combination"
   ]
  },
  {
   "cell_type": "code",
   "execution_count": 9,
   "metadata": {},
   "outputs": [],
   "source": [
    "def linear(X, W, b):\n",
    "    T = tf.matmul(X, W)\n",
    "    return tf.add(T, b)"
   ]
  },
  {
   "cell_type": "markdown",
   "metadata": {},
   "source": [
    "# input data"
   ]
  },
  {
   "cell_type": "code",
   "execution_count": 10,
   "metadata": {},
   "outputs": [
    {
     "name": "stdout",
     "output_type": "stream",
     "text": [
      "<module 'tensorflow.examples.tutorials.mnist.input_data' from '/usr/local/lib/python2.7/dist-packages/tensorflow/examples/tutorials/mnist/input_data.pyc'>\n"
     ]
    }
   ],
   "source": [
    "from tensorflow.examples.tutorials.mnist import input_data\n",
    "print(input_data)"
   ]
  },
  {
   "cell_type": "code",
   "execution_count": 11,
   "metadata": {},
   "outputs": [
    {
     "name": "stdout",
     "output_type": "stream",
     "text": [
      "Extracting ./mnist/train-images-idx3-ubyte.gz\n",
      "Extracting ./mnist/train-labels-idx1-ubyte.gz\n",
      "Extracting ./mnist/t10k-images-idx3-ubyte.gz\n",
      "Extracting ./mnist/t10k-labels-idx1-ubyte.gz\n"
     ]
    }
   ],
   "source": [
    "# what the /datasets/ud730/mnist come from?\n",
    "# it is the floder of mnist : ./mnist\n",
    "mnist = input_data.read_data_sets(\"./mnist\", one_hot=True)    "
   ]
  },
  {
   "cell_type": "code",
   "execution_count": 32,
   "metadata": {},
   "outputs": [
    {
     "name": "stdout",
     "output_type": "stream",
     "text": [
      "3090\n",
      "3090\n"
     ]
    }
   ],
   "source": [
    "train_features = []\n",
    "train_labels = []\n",
    "\n",
    "# In order to make quizzes run faster, we're only looking at 10000 images\n",
    "for mnist_feature, mnist_label in zip(*mnist.train.next_batch(10000)):\n",
    "    # Add features and labels if it's for the first <n>th labels\n",
    "    if mnist_label[:n_labels].any():\n",
    "        train_features.append(mnist_feature)\n",
    "        train_labels.append(mnist_label[:n_labels])\n",
    "        \n",
    "print len(train_features)\n",
    "print len(train_labels)"
   ]
  },
  {
   "cell_type": "markdown",
   "metadata": {},
   "source": [
    "# hyper parameters"
   ]
  },
  {
   "cell_type": "code",
   "execution_count": 14,
   "metadata": {},
   "outputs": [],
   "source": [
    "n_features = 784\n",
    "# 28 * 28 pixel\n",
    "n_labels = 3\n",
    "# 0, 1, 2"
   ]
  },
  {
   "cell_type": "code",
   "execution_count": 36,
   "metadata": {},
   "outputs": [
    {
     "name": "stdout",
     "output_type": "stream",
     "text": [
      "<tf.Variable 'Variable_4:0' shape=(784, 3) dtype=float32_ref>\n",
      "<tf.Variable 'Variable_5:0' shape=(3,) dtype=float32_ref>\n"
     ]
    }
   ],
   "source": [
    "# features and labels\n",
    "features = tf.placeholder(tf.float32)\n",
    "labels = tf.placeholder(tf.float32)\n",
    "\n",
    "# weights and bias\n",
    "W = tf.Variable(tf.truncated_normal((n_features, n_labels)))\n",
    "b = tf.Variable(tf.zeros(n_labels))\n",
    "print W\n",
    "print b\n",
    "\n",
    "# linear classfier\n",
    "logits = linear(features, W, b)"
   ]
  },
  {
   "cell_type": "markdown",
   "metadata": {},
   "source": [
    "## tensor gooo"
   ]
  },
  {
   "cell_type": "code",
   "execution_count": 42,
   "metadata": {},
   "outputs": [
    {
     "name": "stdout",
     "output_type": "stream",
     "text": [
      "Tensor(\"Softmax_15:0\", shape=(?, 3), dtype=float32)\n",
      "Tensor(\"Neg_15:0\", dtype=float32)\n",
      "Tensor(\"Mean_15:0\", dtype=float32)\n"
     ]
    }
   ],
   "source": [
    "with tf.Session() as sess:\n",
    "    sess.run(tf.global_variables_initializer())\n",
    "    \n",
    "    predict = tf.nn.softmax(logits)\n",
    "    print predict\n",
    "    \n",
    "    cross_entropy = -tf.reduce_sum(labels * tf.log(predict), reduction_indices=1)\n",
    "    print cross_entropy\n",
    "    \n",
    "    loss = tf.reduce_mean(cross_entropy)\n",
    "    print loss\n",
    "    \n",
    "    learning_rate = 0.08\n",
    "    \n",
    "    optimizer = tf.train.GradientDescentOptimizer(learning_rate).minimize(loss)\n",
    "    \n",
    "    # why there is a single ( ?\n",
    "#     _, l = sess.run((\n",
    "#         [optimizer, loss], \n",
    "#         feed_dict={features: train_features, labels: train_labels})\n",
    "        \n",
    "#     _, l = sess.run([optimizer, loss], feed_dict={features: train_features, labels: train_labels})\n",
    "    _, l = sess.run([optimizer, loss], feed_dict={features: train_features, labels: train_labels})"
   ]
  },
  {
   "cell_type": "code",
   "execution_count": 40,
   "metadata": {},
   "outputs": [
    {
     "name": "stdout",
     "output_type": "stream",
     "text": [
      "Loss: 10.7772340775\n"
     ]
    }
   ],
   "source": [
    "print('Loss: {}'.format(l))"
   ]
  }
 ],
 "metadata": {
  "kernelspec": {
   "display_name": "Python 2",
   "language": "python",
   "name": "python2"
  },
  "language_info": {
   "codemirror_mode": {
    "name": "ipython",
    "version": 2
   },
   "file_extension": ".py",
   "mimetype": "text/x-python",
   "name": "python",
   "nbconvert_exporter": "python",
   "pygments_lexer": "ipython2",
   "version": "2.7.12"
  }
 },
 "nbformat": 4,
 "nbformat_minor": 2
}
